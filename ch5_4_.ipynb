{
  "nbformat": 4,
  "nbformat_minor": 0,
  "metadata": {
    "colab": {
      "name": "ch5.4_.ipynb",
      "provenance": [],
      "collapsed_sections": [],
      "include_colab_link": true
    },
    "kernelspec": {
      "display_name": "Python 3",
      "language": "python",
      "name": "python3"
    },
    "language_info": {
      "codemirror_mode": {
        "name": "ipython",
        "version": 3
      },
      "file_extension": ".py",
      "mimetype": "text/x-python",
      "name": "python",
      "nbconvert_exporter": "python",
      "pygments_lexer": "ipython3",
      "version": "3.7.3"
    }
  },
  "cells": [
    {
      "cell_type": "markdown",
      "metadata": {
        "id": "view-in-github",
        "colab_type": "text"
      },
      "source": [
        "<a href=\"https://colab.research.google.com/github/syeong1218/ysyy/blob/master/ch5_4_.ipynb\" target=\"_parent\"><img src=\"https://colab.research.google.com/assets/colab-badge.svg\" alt=\"Open In Colab\"/></a>"
      ]
    },
    {
      "cell_type": "markdown",
      "metadata": {
        "colab_type": "text",
        "id": "f7dMDSv2TO52"
      },
      "source": [
        "## 5.4 단순한 계층 구현하기\n",
        "\n",
        "곱셉노드를 'MulLayer', 덧셈노드를 'AddLayer'\n",
        "\n",
        "### 5.4.1 곱셉계층"
      ]
    },
    {
      "cell_type": "code",
      "metadata": {
        "colab_type": "code",
        "id": "gg4QRWQfTfC7",
        "colab": {}
      },
      "source": [
        "class MulLayer:\n",
        "    def __init__(self): # 인스턴스 변수인 x,y를 초기화\n",
        "        self.x = None\n",
        "        self.y = None\n",
        "\n",
        "    def forward(self, x, y): # x,y를 인수로 받고 두 값을 곱해서 반환\n",
        "        self.x = x\n",
        "        self.y = y                \n",
        "        out = x * y\n",
        "\n",
        "        return out\n",
        "\n",
        "    def backward(self, dout):\n",
        "        dx = dout * self.y  # x와 y를 바꾼다.\n",
        "        dy = dout * self.x\n",
        "\n",
        "        return dx, dy"
      ],
      "execution_count": 0,
      "outputs": []
    },
    {
      "cell_type": "code",
      "metadata": {
        "colab_type": "code",
        "id": "RoK10L8XTyo2",
        "outputId": "91acb539-0b67-4ea8-9a26-3b4fd3bb5434",
        "colab": {
          "base_uri": "https://localhost:8080/",
          "height": 35
        }
      },
      "source": [
        "apple = 100\n",
        "apple_num = 2\n",
        "tax = 1.1\n",
        "\n",
        "#계층들\n",
        "mul_apple_layer = MulLayer()\n",
        "mul_tax_layer = MulLayer()\n",
        "\n",
        "# forward(순전파)\n",
        "apple_price = mul_apple_layer.forward(apple, apple_num)\n",
        "price = mul_tax_layer.forward(apple_price, tax)\n",
        "\n",
        "print(\"price:\", int(price))"
      ],
      "execution_count": 0,
      "outputs": [
        {
          "output_type": "stream",
          "text": [
            "price: 220\n"
          ],
          "name": "stdout"
        }
      ]
    },
    {
      "cell_type": "code",
      "metadata": {
        "colab_type": "code",
        "id": "cNGbWid2UILc",
        "outputId": "5edf0b8e-2788-43f5-c4e1-233bc17ef96a",
        "colab": {
          "base_uri": "https://localhost:8080/",
          "height": 71
        }
      },
      "source": [
        "# backward(역전파)\n",
        "dprice = 1\n",
        "dapple_price, dtax = mul_tax_layer.backward(dprice)\n",
        "dapple, dapple_num = mul_apple_layer.backward(dapple_price)\n",
        "\n",
        "print(\"dApple:\", dapple)\n",
        "print(\"dApple_num:\", int(dapple_num))\n",
        "print(\"dTax:\", dtax)"
      ],
      "execution_count": 0,
      "outputs": [
        {
          "output_type": "stream",
          "text": [
            "dApple: 2.2\n",
            "dApple_num: 110\n",
            "dTax: 200\n"
          ],
          "name": "stdout"
        }
      ]
    },
    {
      "cell_type": "markdown",
      "metadata": {
        "colab_type": "text",
        "id": "sSatLOAyUvUT"
      },
      "source": [
        "backward()가 받은 인수는 '순전파의 출력에 대한 미분'\n",
        "\n",
        "mul_apple_layer은   순전파때는 apple_price를 출력, 역전파때는 apple_price의 미분 값인 dapple_price를 인수로 받는다."
      ]
    },
    {
      "cell_type": "markdown",
      "metadata": {
        "colab_type": "text",
        "id": "EkKvhJMuVMR-"
      },
      "source": [
        "### 5.4.2 덧셈 계층"
      ]
    },
    {
      "cell_type": "code",
      "metadata": {
        "colab_type": "code",
        "id": "QgG5VKW3UhZt",
        "colab": {}
      },
      "source": [
        "class AddLayer:\n",
        "    def __init__(self): #초기화가 필요없으니 pass\n",
        "        pass\n",
        "\n",
        "    def forward(self, x, y): # 입력받은 인수 x,y를 더해서 반환\n",
        "        out = x + y\n",
        "\n",
        "        return out\n",
        "\n",
        "    def backward(self, dout): # 상류에서 내려온 미분을 그대로 하류로 보냄\n",
        "        dx = dout * 1\n",
        "        dy = dout * 1\n",
        "\n",
        "        return dx, dy"
      ],
      "execution_count": 0,
      "outputs": []
    },
    {
      "cell_type": "code",
      "metadata": {
        "colab_type": "code",
        "id": "XRGUxdliVjIh",
        "outputId": "aa1487fd-9ed2-49e5-c3b8-03f1afa2b29c",
        "colab": {
          "base_uri": "https://localhost:8080/",
          "height": 125
        }
      },
      "source": [
        "apple = 100\n",
        "apple_num = 2\n",
        "orange = 150\n",
        "orange_num = 3\n",
        "tax = 1.1\n",
        "\n",
        "# 계층들\n",
        "mul_apple_layer = MulLayer()\n",
        "mul_orange_layer = MulLayer()\n",
        "add_apple_orange_layer = AddLayer()\n",
        "mul_tax_layer = MulLayer()\n",
        "\n",
        "# forward(순전파)\n",
        "apple_price = mul_apple_layer.forward(apple, apple_num)  # (1)\n",
        "orange_price = mul_orange_layer.forward(orange, orange_num)  # (2)\n",
        "all_price = add_apple_orange_layer.forward(apple_price, orange_price)  # (3)\n",
        "price = mul_tax_layer.forward(all_price, tax)  # (4)\n",
        "\n",
        "# backward(역전파)\n",
        "dprice = 1\n",
        "dall_price, dtax = mul_tax_layer.backward(dprice)  # (4)\n",
        "dapple_price, dorange_price = add_apple_orange_layer.backward(dall_price)  # (3)\n",
        "dorange, dorange_num = mul_orange_layer.backward(dorange_price)  # (2)\n",
        "dapple, dapple_num = mul_apple_layer.backward(dapple_price)  # (1)\n",
        "\n",
        "print(\"price:\", int(price))\n",
        "print(\"dApple_num:\", int(dapple_num))\n",
        "print(\"dApple:\", dapple)\n",
        "print(\"dOrange:\", dorange)\n",
        "print(\"dOrange_num:\", int(dorange_num))\n",
        "print(\"dTax:\", dtax)"
      ],
      "execution_count": 0,
      "outputs": [
        {
          "output_type": "stream",
          "text": [
            "price: 715\n",
            "dApple_num: 110\n",
            "dApple: 2.2\n",
            "dOrange: 3.3000000000000003\n",
            "dOrange_num: 165\n",
            "dTax: 650\n"
          ],
          "name": "stdout"
        }
      ]
    },
    {
      "cell_type": "markdown",
      "metadata": {
        "colab_type": "text",
        "id": "Gww6ouqSWTDp"
      },
      "source": [
        "## 5.5 활성화 함수 계층 구현하기\n",
        "\n",
        "신경망을 구성하는 층 각각을 클래스 하나로 구현\n",
        "\n",
        "### 5.5.1 ReLU 계층\n",
        "\n",
        "* ReLU 수식\n",
        "$$y=\\left\\{\\begin{matrix}\n",
        "x & (x>0) & \\\\ \n",
        "0 & (x\\leq 0) & \n",
        "\\end{matrix}\\right.$$\n",
        "\n",
        "\n",
        "$$\\frac{\\partial y}{\\partial x}=\\left\\{\\begin{matrix}\n",
        "1 & (x>0) & \\\\ \n",
        "0 & (x\\leq 0) & \n",
        "\\end{matrix}\\right.$$\n",
        "\n",
        "순전파 때의 입력인 x가 0보다 크면 역전파는 상류의 값을 그대로 하류로 보낸다. 하지만 x가 0 이하면 역전파는 하류로 신호를 보내지 않는다."
      ]
    },
    {
      "cell_type": "code",
      "metadata": {
        "colab_type": "code",
        "id": "EpCPBwLgVyA9",
        "colab": {}
      },
      "source": [
        "class Relu:\n",
        "    def __init__(self):\n",
        "        self.mask = None \n",
        "        # mask라는 변수를 갖는다. mask는 True/False로 구성된 넘파이 배열. 순전파의 입력인 x가 0 이하면 True, 0 이상이면 False\n",
        "\n",
        "    def forward(self, x):\n",
        "        self.mask = (x <= 0)\n",
        "        out = x.copy()\n",
        "        out[self.mask] = 0\n",
        "\n",
        "        return out\n",
        "\n",
        "    def backward(self, dout):\n",
        "        dout[self.mask] = 0\n",
        "        dx = dout\n",
        "\n",
        "        return dx"
      ],
      "execution_count": 0,
      "outputs": []
    },
    {
      "cell_type": "code",
      "metadata": {
        "colab_type": "code",
        "id": "irfJvEB_efAo",
        "outputId": "3d48448b-57b7-4e0c-b573-25807cd244e1",
        "colab": {
          "base_uri": "https://localhost:8080/",
          "height": 53
        }
      },
      "source": [
        "import numpy as np\n",
        "\n",
        "x=np.array([[1.0, -0.5],[-2.0, 3.0]])\n",
        "print(x)"
      ],
      "execution_count": 0,
      "outputs": [
        {
          "output_type": "stream",
          "text": [
            "[[ 1.  -0.5]\n",
            " [-2.   3. ]]\n"
          ],
          "name": "stdout"
        }
      ]
    },
    {
      "cell_type": "code",
      "metadata": {
        "colab_type": "code",
        "id": "d2iPu328ekdE",
        "outputId": "f174f76f-8618-4be1-99dc-1c2118db2b34",
        "colab": {
          "base_uri": "https://localhost:8080/",
          "height": 53
        }
      },
      "source": [
        "mask = (x<=0)\n",
        "print(mask)"
      ],
      "execution_count": 0,
      "outputs": [
        {
          "output_type": "stream",
          "text": [
            "[[False  True]\n",
            " [ True False]]\n"
          ],
          "name": "stdout"
        }
      ]
    },
    {
      "cell_type": "markdown",
      "metadata": {
        "colab_type": "text",
        "id": "Ykun5MNHfOJB"
      },
      "source": [
        "### 5.5.2 Sigmoid 계층\n",
        "\n",
        "* 시그모이드 함수\n",
        "$$y=\\frac{1}{1+exp(-x)}$$\n",
        "\n",
        "  - **1단계**\n",
        "  \n",
        "      '/'노드\n",
        "  $$y=\\frac{1}{x}$$\n",
        "  $$\\frac{\\partial y}{\\partial x}=-\\frac{1}{x^{2}}=-y^{2}$$\n",
        "  \n",
        "      역전파 때 상류에서 흘러온 값에 -y^2을 곱해서 하류로 전달.\n",
        "      \n",
        "  - **2단계**\n",
        "  \n",
        "     '+'노드는 상류의 값을 여과 없이 하류로 내보낸다.\n",
        "     \n",
        "  - **3단계**\n",
        "  \n",
        "     'exp'노드는 y=exp(x) 연산을 수행한다.\n",
        "     $$\\frac{\\partial y}{\\partial x}=exp(x)$$\n",
        "     상류의 값에 순전파의 출력 exp(x)를 곱해 하류로 전파.\n",
        "     \n",
        "  - **4단계**\n",
        "   \n",
        "    'x'노드는 순전파 때의 값을 서로 바꿔 곱한다.\n",
        "    \n",
        "    \n",
        "계산 그래프의 중간 과정을 모두 묶어 간소화 할 수 있다. 간소화 버전은 역전파 과정의 중간 계산들을 생략할 수 있어 더 효율적이고, 입력과 출력에만 집중 할 수 있다."
      ]
    },
    {
      "cell_type": "code",
      "metadata": {
        "colab_type": "code",
        "id": "6NhgMdNqewXn",
        "colab": {}
      },
      "source": [
        "class Sigmoid:\n",
        "    def __init__(self):\n",
        "        self.out = None\n",
        "\n",
        "    def forward(self, x):\n",
        "        out = sigmoid(x)\n",
        "        self.out = out\n",
        "        return out\n",
        "\n",
        "    def backward(self, dout):\n",
        "        dx = dout * (1.0 - self.out) * self.out\n",
        "\n",
        "        return dx"
      ],
      "execution_count": 0,
      "outputs": []
    },
    {
      "cell_type": "markdown",
      "metadata": {
        "colab_type": "text",
        "id": "SBKf2hYUp6HH"
      },
      "source": [
        "## 5.6 Affine/Sortmax 계층 구현하기\n",
        "\n",
        "### 5.6.1 Affine 계층\n",
        "신경망의 순전파에서는 가중치 신호의 총합을 계산하기 때문에 행렬의 곱을 사용."
      ]
    },
    {
      "cell_type": "code",
      "metadata": {
        "colab_type": "code",
        "id": "lL2P_g8op5Ch",
        "outputId": "b28cc7f5-7bcd-4f78-9eec-b24c6b72db32",
        "colab": {
          "base_uri": "https://localhost:8080/",
          "height": 35
        }
      },
      "source": [
        "X=np.random.rand(2)    # 입력\n",
        "W=np.random.rand(2,3)  # 가중치\n",
        "B=np.random.rand(3)    # 편향\n",
        "\n",
        "X.shape"
      ],
      "execution_count": 0,
      "outputs": [
        {
          "output_type": "execute_result",
          "data": {
            "text/plain": [
              "(2,)"
            ]
          },
          "metadata": {
            "tags": []
          },
          "execution_count": 11
        }
      ]
    },
    {
      "cell_type": "code",
      "metadata": {
        "colab_type": "code",
        "id": "eCou3FF2qeNi",
        "outputId": "931767c9-eca0-4533-e9a3-1187c502e4d1",
        "colab": {
          "base_uri": "https://localhost:8080/",
          "height": 35
        }
      },
      "source": [
        "W.shape"
      ],
      "execution_count": 0,
      "outputs": [
        {
          "output_type": "execute_result",
          "data": {
            "text/plain": [
              "(2, 3)"
            ]
          },
          "metadata": {
            "tags": []
          },
          "execution_count": 12
        }
      ]
    },
    {
      "cell_type": "code",
      "metadata": {
        "colab_type": "code",
        "id": "Dw_BZ-8Nqg_L",
        "outputId": "4f9979ab-b53d-4b72-c900-546c13b30688",
        "colab": {
          "base_uri": "https://localhost:8080/",
          "height": 35
        }
      },
      "source": [
        "B.shape"
      ],
      "execution_count": 0,
      "outputs": [
        {
          "output_type": "execute_result",
          "data": {
            "text/plain": [
              "(3,)"
            ]
          },
          "metadata": {
            "tags": []
          },
          "execution_count": 13
        }
      ]
    },
    {
      "cell_type": "code",
      "metadata": {
        "colab_type": "code",
        "id": "tUON4UJ8qm7x",
        "colab": {}
      },
      "source": [
        "Y=np.dot(X,W)+B"
      ],
      "execution_count": 0,
      "outputs": []
    },
    {
      "cell_type": "markdown",
      "metadata": {
        "id": "2arzvp4hiFhp",
        "colab_type": "text"
      },
      "source": [
        "Y를 활성화함수로 변환해 다음 층으로 전파하는 것이 신경망 순전파의 흐름\n",
        "\n",
        "**어파인 변환** : 신경망의 순전파 때 수행하는 행렬의 곱 ->어파인 변환을 수행하는 처리를 **Affine 계층**"
      ]
    },
    {
      "cell_type": "markdown",
      "metadata": {
        "id": "xhneOaeDiFhs",
        "colab_type": "text"
      },
      "source": [
        "#### 역전파\n",
        "\n",
        "행렬의 역전파도 행렬의 원소마다 전개하면 스칼라값을 사용하여 계산하는 순서와 같게 생각 가능.\n",
        "\n",
        "$$ \\frac{\\partial L}{\\partial X}=\\frac{\\partial L}{\\partial Y}\\cdot W^{T}$$\n",
        "$$ \\frac{\\partial L}{\\partial W}=X^{T}\\cdot \\frac{\\partial L}{\\partial Y}$$\n",
        "\n",
        "W^{T}의 T는 전치행렬(W의 (i,j)위치의 원소를 (j,i)위치로 바꾼 것을 말함.)을 의미.\n",
        "$$ W=\\begin{pmatrix}\n",
        "w_{11} & w_{12} & w_{13}\\\\ \n",
        "w21 & w_{22} & w_{23}\n",
        "\\end{pmatrix}$$\n",
        "\n",
        "$$W^{T}=\\begin{pmatrix}\n",
        "w_{11} & w_{12}\\\\ \n",
        "w_{12} & w_{22}\\\\ \n",
        "w_{13} & w_{23}\n",
        "\\end{pmatrix}$$\n",
        "\n",
        "계산 그래프의 역전파 그림5-25\n",
        "\n",
        "여기서 X와 dL/dX은 같은 형상, W와 dL/dW은 같은 형상\n",
        "\n",
        "$$X=(x_{0},x_{1},\\cdots ,x_{n})$$\n",
        "$$\\frac{\\partial L}{\\partial X}=(\\frac{\\partial L}{\\partial x_{0}},\\frac{\\partial L}{\\partial x_{1}},\\cdots ,\\frac{\\partial L}{\\partial x_{n}})$$\n",
        "\n",
        "* 주의할 점:\n",
        "    행렬의 곱에서는 대응하는 차원의 원소 수를 일치시켜야한다."
      ]
    },
    {
      "cell_type": "markdown",
      "metadata": {
        "id": "lJSKYfpziFhw",
        "colab_type": "text"
      },
      "source": [
        "### 배치용 Affine 계층\n",
        "\n",
        "앞에서 설명한 것은 입력 데이터로 X 하나만 고려한 것.\n",
        "\n",
        "여기서는 데이터 N 개를 묶어 순전파하는 경우 다룬다.\n",
        "\n",
        "* N=2인 경우 예시"
      ]
    },
    {
      "cell_type": "code",
      "metadata": {
        "id": "Ck8vF6UfiFh2",
        "colab_type": "code",
        "colab": {},
        "outputId": "ef841768-c679-47b1-c18c-c5aa842d4631"
      },
      "source": [
        "X_dot_W = np.array([[0,0,0],[10,10,10]])\n",
        "B = np.array([1,2,3])\n",
        "\n",
        "X_dot_W"
      ],
      "execution_count": 0,
      "outputs": [
        {
          "output_type": "execute_result",
          "data": {
            "text/plain": [
              "array([[ 0,  0,  0],\n",
              "       [10, 10, 10]])"
            ]
          },
          "metadata": {
            "tags": []
          },
          "execution_count": 15
        }
      ]
    },
    {
      "cell_type": "code",
      "metadata": {
        "id": "cDJftOXgiFh_",
        "colab_type": "code",
        "colab": {},
        "outputId": "e6358daa-5bba-4344-836b-83197792bd4e"
      },
      "source": [
        "X_dot_W+B"
      ],
      "execution_count": 0,
      "outputs": [
        {
          "output_type": "execute_result",
          "data": {
            "text/plain": [
              "array([[ 1,  2,  3],\n",
              "       [11, 12, 13]])"
            ]
          },
          "metadata": {
            "tags": []
          },
          "execution_count": 17
        }
      ]
    },
    {
      "cell_type": "markdown",
      "metadata": {
        "id": "m1DYwPf6iFiG",
        "colab_type": "text"
      },
      "source": [
        "순전파의 편향 덧셈은 각각의 데이터를 더한다.\n",
        "\n",
        "그래서 역전파 때는 각 데이터의 역전파 값이 편향의 원소에 모임."
      ]
    },
    {
      "cell_type": "code",
      "metadata": {
        "id": "QophGfApiFiJ",
        "colab_type": "code",
        "colab": {},
        "outputId": "3a56bf41-ee30-40b0-c663-a1441c37f0a8"
      },
      "source": [
        "dY = np.array([[1,2,3],[4,5,6]])\n",
        "dY"
      ],
      "execution_count": 0,
      "outputs": [
        {
          "output_type": "execute_result",
          "data": {
            "text/plain": [
              "array([[1, 2, 3],\n",
              "       [4, 5, 6]])"
            ]
          },
          "metadata": {
            "tags": []
          },
          "execution_count": 18
        }
      ]
    },
    {
      "cell_type": "code",
      "metadata": {
        "id": "GBuYQir0iFiT",
        "colab_type": "code",
        "colab": {},
        "outputId": "b71ca224-ed0f-49c6-d3d3-f60f7de124c9"
      },
      "source": [
        "dB=np.sum(dY, axis=0)\n",
        "dB"
      ],
      "execution_count": 0,
      "outputs": [
        {
          "output_type": "execute_result",
          "data": {
            "text/plain": [
              "array([5, 7, 9])"
            ]
          },
          "metadata": {
            "tags": []
          },
          "execution_count": 19
        }
      ]
    },
    {
      "cell_type": "markdown",
      "metadata": {
        "id": "zDq-q2SxiFig",
        "colab_type": "text"
      },
      "source": [
        "이 예는 데이터가 2개여서, 편향의 역전파는 그 두 데이터에 대한 미분을 데이터마다 더해서 구함. => np.sum()에서 0번째 축(데이터를 단위로 한 축)에 대해서 (axis=0)의 총합을 구하는 것."
      ]
    },
    {
      "cell_type": "code",
      "metadata": {
        "id": "zOtPBKkEiFin",
        "colab_type": "code",
        "colab": {}
      },
      "source": [
        "class Affine:\n",
        "    def __init__(self, W, b):\n",
        "        self.W = W\n",
        "        self.b = b\n",
        "        self.x = None\n",
        "        self.dW = None\n",
        "        self.db = None\n",
        "\n",
        "    def forward(self, x):\n",
        "        self.x = x\n",
        "        out = np.dot(self.x, self.W) + self.b\n",
        "\n",
        "        return out\n",
        "\n",
        "    def backward(self, dout):\n",
        "        dx = np.dot(dout, self.W.T)\n",
        "        self.dW = np.dot(self.x.T, dout)\n",
        "        self.db = np.sum(dout, axis=0)\n",
        "\n",
        "        return dx"
      ],
      "execution_count": 0,
      "outputs": []
    },
    {
      "cell_type": "markdown",
      "metadata": {
        "id": "u8mmE4LciFi9",
        "colab_type": "text"
      },
      "source": [
        "이 데이터는 4차원 데이터를 고려한 것 "
      ]
    },
    {
      "cell_type": "markdown",
      "metadata": {
        "id": "27JnTQIqiFjA",
        "colab_type": "text"
      },
      "source": [
        "### 5.6.3 Softmax-with-Loss계층\n",
        "\n",
        "소프트맥스 함수 : 입력 값을 정규화하여 출력\n",
        "\n",
        "손글씨 숫자 인식을 예로 들면 숫자가 만약 2일 때 입력을 확률로 변환해 축력의 합이 1이 되도록 출력한다.\n"
      ]
    },
    {
      "cell_type": "code",
      "metadata": {
        "id": "nuwyxvu4iFjC",
        "colab_type": "code",
        "colab": {}
      },
      "source": [
        "class SoftmaxWithLoss:\n",
        "    def __init__(self):\n",
        "        self.loss = None # 손실함수\n",
        "        self.y = None    # softmax의 출력\n",
        "        self.t = None    # 정답 레이블(원-핫 벡터)\n",
        "        \n",
        "    def forward(self, x, t):\n",
        "        self.t = t\n",
        "        self.y = softmax(x)\n",
        "        self.loss = cross_entropy_error(self.y, self.t)\n",
        "        \n",
        "        return self.loss\n",
        "\n",
        "    def backward(self, dout=1):\n",
        "        batch_size = self.t.shape[0]\n",
        "        dx = (self.y - self.t) / batch_size\n",
        "        \n",
        "        return dx"
      ],
      "execution_count": 0,
      "outputs": []
    },
    {
      "cell_type": "markdown",
      "metadata": {
        "id": "aR9oVicWiFjK",
        "colab_type": "text"
      },
      "source": [
        "* 주의할 점 : 역전파 때는 전파하는 값을 배치의 수로 나눠서 데이터 1개당 오차를 앞 계층으로 전파하는 점."
      ]
    },
    {
      "cell_type": "markdown",
      "metadata": {
        "id": "WIQTZO69iFjN",
        "colab_type": "text"
      },
      "source": [
        "## 오차역전파법 구현하기\n",
        "\n",
        "### 5.7.1 신경망 학습의 전체 그림\n",
        "* **전제** \n",
        "    \n",
        "    신경망에는 적응 가능한 가중치와 편향이 있고, 이 가중치와 편향을 훈련 데이터에 적응하도록 조정하는 과정을 '학습'이라 합니다. 신경망 학습은 다음과 같이 4단계로 수행합니다.\n",
        "\n",
        "\n",
        "   **1단계 - 미니배치**\n",
        "\n",
        "    훈련 데이터 중 일부를 무작위로 가져옵니다. 이렇게 선별한 데이터를 미니배치라 하며, 그 미니배치의 손실함수 값을 줄이는 것이 목표.\n",
        "    \n",
        "   **2단계 - 기울기 산출** -> 오차역전파법 등장\n",
        "   \n",
        "    미니배치의 손실 함수 값을 줄이기 위해 각 가중치 매개변수의 기울기를 구합니다. 기울기는 손실 함수의 값을 가장 작게 하는 방향을 제시.\n",
        "    \n",
        "   **3단계 - 매개변수 갱신**\n",
        "    \n",
        "    가중치 매개변수를 기울기 방향으로 아주 조금 갱신합니다.\n",
        "    \n",
        "   **4단계 - 반복**\n",
        "    \n",
        "    1~3단계를 반복합니다."
      ]
    },
    {
      "cell_type": "markdown",
      "metadata": {
        "id": "XE0jWUe_iFjR",
        "colab_type": "text"
      },
      "source": [
        "### 오차역전파법을 적용한 신경망 구현하기"
      ]
    },
    {
      "cell_type": "code",
      "metadata": {
        "id": "a_uAAyyfiFjT",
        "colab_type": "code",
        "colab": {}
      },
      "source": [
        "import sys, os\n",
        "sys.path.append(os.pardir)  # 부모 디렉터리의 파일을 가져올 수 있도록 설정\n",
        "import numpy as np\n",
        "from common.layers import *\n",
        "from common.gradient import numerical_gradient\n",
        "from collections import OrderedDict\n",
        "\n",
        "\n",
        "class TwoLayerNet:\n",
        "\n",
        "    def __init__(self, input_size, hidden_size, output_size, weight_init_std = 0.01): #초기화 수행\n",
        "        # 가중치 초기화\n",
        "        self.params = {} # params : 신경망의 매개변수를 보관\n",
        "        self.params['W1'] = weight_init_std * np.random.randn(input_size, hidden_size) #1번째층의 가중치\n",
        "        self.params['b1'] = np.zeros(hidden_size)                                      #1번째층의 편향\n",
        "        self.params['W2'] = weight_init_std * np.random.randn(hidden_size, output_size)#2번째층의 가중치\n",
        "        self.params['b2'] = np.zeros(output_size)                                      #2번째층의 편향\n",
        "\n",
        "        # 계층 생성\n",
        "        self.layers = OrderedDict() # layer : 신경망의 계층을 보관, OrderedDict : 순서가 있는 딕셔너리\n",
        "        self.layers['Affine1'] = Affine(self.params['W1'], self.params['b1'])\n",
        "        self.layers['Relu1'] = Relu()\n",
        "        self.layers['Affine2'] = Affine(self.params['W2'], self.params['b2'])\n",
        "\n",
        "        self.lastLayer = SoftmaxWithLoss() #lastlayer : 신경망의 마지막 계층\n",
        "        \n",
        "    def predict(self, x): #예측을 수행, 인수 x는 이미지 데이터\n",
        "        for layer in self.layers.values():\n",
        "            x = layer.forward(x)\n",
        "        \n",
        "        return x\n",
        "        \n",
        "    # x : 입력 데이터, t : 정답 레이블\n",
        "    def loss(self, x, t): #손실 함수의 값을 구한다\n",
        "        y = self.predict(x)\n",
        "        return self.lastLayer.forward(y, t)\n",
        "    \n",
        "    def accuracy(self, x, t): # 정확도를 구한다\n",
        "        y = self.predict(x)\n",
        "        y = np.argmax(y, axis=1)\n",
        "        if t.ndim != 1 : t = np.argmax(t, axis=1)\n",
        "        \n",
        "        accuracy = np.sum(y == t) / float(x.shape[0])\n",
        "        return accuracy\n",
        "        \n",
        "    # x : 입력 데이터, t : 정답 레이블\n",
        "    def numerical_gradient(self, x, t): #가중치 매개변수의 기울기를 수치미분방식으로 구한다.\n",
        "        loss_W = lambda W: self.loss(x, t)\n",
        "        \n",
        "        grads = {}\n",
        "        grads['W1'] = numerical_gradient(loss_W, self.params['W1'])\n",
        "        grads['b1'] = numerical_gradient(loss_W, self.params['b1'])\n",
        "        grads['W2'] = numerical_gradient(loss_W, self.params['W2'])\n",
        "        grads['b2'] = numerical_gradient(loss_W, self.params['b2'])\n",
        "        \n",
        "        return grads\n",
        "        \n",
        "    def gradient(self, x, t): # 가중치 매개변수의 기울기를 오차역전파법으로 구한다.\n",
        "        # 순전파\n",
        "        self.loss(x, t)\n",
        "\n",
        "        # 역전파\n",
        "        dout = 1\n",
        "        dout = self.lastLayer.backward(dout)\n",
        "        \n",
        "        layers = list(self.layers.values())\n",
        "        layers.reverse()\n",
        "        for layer in layers:\n",
        "            dout = layer.backward(dout)\n",
        "\n",
        "        # 결과 저장\n",
        "        grads = {}\n",
        "        grads['W1'] = self.layers['Affine1'].dW\n",
        "        grads['b1'] = self.layers['Affine1'].db\n",
        "        grads['W2'] = self.layers['Affine2'].dW\n",
        "        grads['b2'] = self.layers['Affine2'].db\n",
        "\n",
        "        return grads"
      ],
      "execution_count": 0,
      "outputs": []
    },
    {
      "cell_type": "markdown",
      "metadata": {
        "id": "ekzWTrRjiFjb",
        "colab_type": "text"
      },
      "source": [
        "### 오차역전파법으로 구한 기울기 검증하기\n",
        "* 수치미분 : 느리다. 구현하기 쉽다.\n",
        "\n",
        "* 오차역전파법 : 매개변수 많아도 효율적으로 계산 가능, 구현하기 복잡하다.\n",
        "\n",
        "**기울기 확인: 수치미분과 오차역전파법으로 구한 기울기가 일치하는지 확인**"
      ]
    },
    {
      "cell_type": "code",
      "metadata": {
        "id": "iZJyQsC5iFje",
        "colab_type": "code",
        "colab": {},
        "outputId": "6e1f9ca2-99e3-4682-d9e0-3903cd4243d6"
      },
      "source": [
        "import sys, os\n",
        "sys.path.append(os.pardir)  # 부모 디렉터리의 파일을 가져올 수 있도록 설정\n",
        "import numpy as np\n",
        "from dataset.mnist import load_mnist\n",
        "from two_layer_net import TwoLayerNet\n",
        "\n",
        "# 데이터 읽기\n",
        "(x_train, t_train), (x_test, t_test) = load_mnist(normalize=True, one_hot_label=True)\n",
        "\n",
        "network = TwoLayerNet(input_size=784, hidden_size=50, output_size=10)\n",
        "\n",
        "x_batch = x_train[:3]\n",
        "t_batch = t_train[:3]\n",
        "\n",
        "grad_numerical = network.numerical_gradient(x_batch, t_batch)\n",
        "grad_backprop = network.gradient(x_batch, t_batch)\n",
        "\n",
        "# 각 가중치의 차이의 절댓값을 구한 후, 그 절댓값들의 평균을 구한다.\n",
        "for key in grad_numerical.keys():\n",
        "    diff = np.average( np.abs(grad_backprop[key] - grad_numerical[key]) )\n",
        "    print(key + \":\" + str(diff))"
      ],
      "execution_count": 0,
      "outputs": [
        {
          "output_type": "stream",
          "text": [
            "W1:2.018733193775896e-10\n",
            "b1:9.542260616119802e-10\n",
            "W2:6.976710720632551e-08\n",
            "b2:1.406114384344681e-07\n"
          ],
          "name": "stdout"
        }
      ]
    },
    {
      "cell_type": "markdown",
      "metadata": {
        "id": "hz_Hkv6xiFjk",
        "colab_type": "text"
      },
      "source": [
        "* 수치미분과 오차역전파법의 결과 오차가 0이 되는일은 드물다. 컴퓨터가 할 수 있는 계산의 정밀도가 유한하기 때문이다. 따라서 올바르게 구현했다면 0에 아주 가까운 작은 값이 된다."
      ]
    },
    {
      "cell_type": "markdown",
      "metadata": {
        "id": "eRXdv2LPiFjm",
        "colab_type": "text"
      },
      "source": [
        "### 5.7.4 오차역전파법을 사용한 학습 구현하기"
      ]
    },
    {
      "cell_type": "code",
      "metadata": {
        "id": "N96uGwMViFjo",
        "colab_type": "code",
        "colab": {},
        "outputId": "80a5d564-fd69-445f-8e4b-bfa1410a65f1"
      },
      "source": [
        "import sys, os\n",
        "sys.path.append(os.pardir)\n",
        "\n",
        "import numpy as np\n",
        "from dataset.mnist import load_mnist\n",
        "from two_layer_net import TwoLayerNet\n",
        "\n",
        "# 데이터 읽기\n",
        "(x_train, t_train), (x_test, t_test) = load_mnist(normalize=True, one_hot_label=True)\n",
        "\n",
        "network = TwoLayerNet(input_size=784, hidden_size=50, output_size=10)\n",
        "\n",
        "iters_num = 10000\n",
        "train_size = x_train.shape[0]\n",
        "batch_size = 100\n",
        "learning_rate = 0.1\n",
        "\n",
        "train_loss_list = []\n",
        "train_acc_list = []\n",
        "test_acc_list = []\n",
        "\n",
        "iter_per_epoch = max(train_size / batch_size, 1)\n",
        "\n",
        "for i in range(iters_num):\n",
        "    batch_mask = np.random.choice(train_size, batch_size)\n",
        "    x_batch = x_train[batch_mask]\n",
        "    t_batch = t_train[batch_mask]\n",
        "    \n",
        "    # 오차역전파법으로 기울기 계산\n",
        "    #grad = network.numerical_gradient(x_batch, t_batch) # 수치 미분 방식\n",
        "    grad = network.gradient(x_batch, t_batch) # 오차역전파법 방식(훨씬 빠르다)\n",
        "    \n",
        "    # 갱신\n",
        "    for key in ('W1', 'b1', 'W2', 'b2'):\n",
        "        network.params[key] -= learning_rate * grad[key]\n",
        "    \n",
        "    loss = network.loss(x_batch, t_batch)\n",
        "    train_loss_list.append(loss)\n",
        "    \n",
        "    if i % iter_per_epoch == 0:\n",
        "        train_acc = network.accuracy(x_train, t_train)\n",
        "        test_acc = network.accuracy(x_test, t_test)\n",
        "        train_acc_list.append(train_acc)\n",
        "        test_acc_list.append(test_acc)\n",
        "        print(train_acc, test_acc)"
      ],
      "execution_count": 0,
      "outputs": [
        {
          "output_type": "stream",
          "text": [
            "0.09863333333333334 0.0958\n",
            "0.7884333333333333 0.7963\n",
            "0.8756833333333334 0.8799\n",
            "0.8997833333333334 0.9018\n",
            "0.90875 0.9123\n",
            "0.9168333333333333 0.9179\n",
            "0.9206333333333333 0.9237\n",
            "0.9254166666666667 0.9284\n",
            "0.92925 0.9324\n",
            "0.9322833333333334 0.9332\n",
            "0.9349 0.9371\n",
            "0.9375333333333333 0.9381\n",
            "0.94 0.9408\n",
            "0.9421166666666667 0.9416\n",
            "0.9437833333333333 0.9418\n",
            "0.9457 0.9449\n",
            "0.94805 0.9457\n"
          ],
          "name": "stdout"
        }
      ]
    },
    {
      "cell_type": "markdown",
      "metadata": {
        "id": "Ga9zzTKmiFju",
        "colab_type": "text"
      },
      "source": [
        "* 4.5.3 과 비교\n",
        "https://colab.research.google.com/github/syeong1218/ysyy/blob/master/ch_4_3_.ipynb"
      ]
    },
    {
      "cell_type": "code",
      "metadata": {
        "id": "u6Me9irhiFjw",
        "colab_type": "code",
        "colab": {}
      },
      "source": [
        ""
      ],
      "execution_count": 0,
      "outputs": []
    }
  ]
}