{
 "cells": [
  {
   "cell_type": "markdown",
   "metadata": {},
   "source": [
    "Markdown 사용법\n",
    "=============="
   ]
  },
  {
   "cell_type": "markdown",
   "metadata": {},
   "source": [
    "17101595 유순영\n",
    "---------------\n",
    "___________________________________________________"
   ]
  },
  {
   "cell_type": "markdown",
   "metadata": {},
   "source": [
    "## 목차\n",
    "1. Markdown이란\n",
    "2. Markdown 문법\n",
    "    - 제목\n",
    "    - 목록\n",
    "    - 강조\n",
    "    - 수평선\n",
    "    - 줄바꿈\n",
    "    - 링크\n",
    "    - 인용\n",
    "    - 이미지\n",
    "    - 표\n",
    "    - 각주\n",
    "    - 코드 블럭\n",
    "_______________________________________________________________"
   ]
  },
  {
   "cell_type": "markdown",
   "metadata": {},
   "source": [
    "### 1. Markdown"
   ]
  },
  {
   "cell_type": "markdown",
   "metadata": {},
   "source": [
    "Markdown은 John Gruber, Aaron Swartz가 만든 마크업 언어의 일종이다.<br> 간단한 특수기호와 문자로 이루어진 Markdown 문법은 HTML과 같은 복잡한 포맷이 없어도 구조적인 웹문서를 빠르게 작성할 수 있다. <br>또한, Markdown을 이용해 작성된 문서는 다른 문서 형대로도 손쉽게 변환이 가능하다."
   ]
  },
  {
   "cell_type": "markdown",
   "metadata": {},
   "source": [
    "### 2. Markdown 문법"
   ]
  },
  {
   "cell_type": "markdown",
   "metadata": {},
   "source": [
    "#### 2-1 제목\n",
    "글씨 밑에 ===와---을 사용하여 큰제목과 작은 제목을 설정가능하다. 그리고 #의 갯수을 사용하여 제목을 설정가능하다. #의 갯수가 많아질수록 크기는 작아진다. #은 1개부터 6개까지 가능하다.<br>ex) #3개\n",
    "### 3개\n",
    "ex) #6개\n",
    "###### 6개"
   ]
  },
  {
   "cell_type": "markdown",
   "metadata": {},
   "source": [
    "#### 2-2 목록\n",
    "순서가 있는 목록을 사용할때는 숫자를 사용하면 된다. 그리고 순서가 없는 목록을 표현할 때는 '+','-'.'* '를 사용해서 작성할 수 있다.tab 키 또는 2칸 띄어쓰기를 통해 계층별로 나눌 수 있다.\n",
    "<br> ex)\n",
    "1. 목록\n",
    "  * 1번\n",
    "2. 목록\n",
    "   + 1번\n",
    "       - 2번"
   ]
  },
  {
   "cell_type": "markdown",
   "metadata": {},
   "source": [
    "#### 2-3 강조\n",
    "기울여쓰기는 글씨 양쪽에 별표 또는 언더바 를 사용한다.\n",
    "<br> ex) *강조* 하기\n",
    "<br>굵게 쓰기는 글씨 양쪽에 별표 또는 언더바를 연속으로 2개 사용한다.\n",
    "<br> ex) __강조__ 하기\n",
    "<br> 글씨 양쪽에 별표 또는 언더바를 연속으로 3개 사용하면 기울여쓰기와 굵게 쓰기를 같이 할 수 있다.\n",
    "<br> ex) ***강조*** 하기\n",
    "<br> 취소선은 글씨 양쪽에 물결표를 연속으로 2개 사용한다.\n",
    "<br> ex) ~~강조~~ 하기\n",
    "<br> 밑줄은 < u >< /u> 사이에 글씨를 입력한다.\n",
    "<br> ex) <u>강조</u> 하기"
   ]
  },
  {
   "cell_type": "markdown",
   "metadata": {},
   "source": [
    "#### 2-4 수평선\n",
    "문단과 문단사이를 나눌 때 사용된다. -, * , _ 을 세개이상 나열하면 된다.\n",
    "<br>ex) \n",
    "**********\n",
    "______________\n",
    "---------------------"
   ]
  },
  {
   "cell_type": "markdown",
   "metadata": {},
   "source": [
    "#### 2-5 줄바꿈\n",
    "< br>를 사용하여 줄바꿈을 할 수 있다.\n",
    "<br>ex) 가나다라<br>마바사"
   ]
  },
  {
   "cell_type": "markdown",
   "metadata": {},
   "source": [
    "#### 2-6 링크\n",
    "url을 입력하거나 < url>을 사용하면 된다. 또는 [링크 이름](링크 주소) 이렇게 입력해도 된다.\n",
    "<br>ex) http://www.google.com\n",
    "<br> [구글](http://www.google.com)\n"
   ]
  },
  {
   "cell_type": "markdown",
   "metadata": {},
   "source": [
    "#### 2-7 인용\n",
    "인용된 글을 표시할때는 >기호를 문장 앞에 붙인다. >의 갯수에 따라 들여쓰기 조정가능하다.\n",
    "<br> ex)\n",
    ">인용한 글\n",
    ">>두번째로 인용한 글\n",
    ">\n",
    ">그다음 인용한 글"
   ]
  },
  {
   "cell_type": "markdown",
   "metadata": {},
   "source": [
    "#### 2-8 이미지\n",
    "링크를 삽입하는 것과 유사하지만 처음에 !를 붙여주면 된다. <br> ![이미지 이름](이미지 주소)\n",
    "<br>ex) \n",
    "![서울과학기술대학교](http://www.seoultech.ac.kr/site/www/images/intro/img_ui05.gif)"
   ]
  },
  {
   "cell_type": "markdown",
   "metadata": {},
   "source": [
    "#### 2-9 표\n",
    "|를 사용하여 표를 만든다.<br> 헤더 셀을 구분할 때 3개 이상의 - 기호를 사용한다.<br>\n",
    "헤더 셀을 구분하면서 : 기호로 셀(열/칸) 안에 내용을 정렬할 수 있다. <br>오른쪽 정렬 (---:), 왼쪽 정렬(:---), 가운데 정렬(:---:)<br>\n",
    "가장 좌측과 가장 우측에 있는 | 기호는 생략 가능하다.\n",
    "<br>ex)\n"
   ]
  },
  {
   "cell_type": "markdown",
   "metadata": {},
   "source": [
    "| 이름 | 나이 | 학교 |\n",
    "|:----:|----:|:----|\n",
    "|유순영|22세|서울과학기술대학교|"
   ]
  },
  {
   "cell_type": "markdown",
   "metadata": {},
   "source": [
    "#### 2-10 각주\n",
    "본문의 어떤 부분을 설명하거나 보충하기 위해 본문 아래쪽에 별도로 작성하는 간단한 설명문으로서 주로 내용의 출처를 밝힐 때 사용한다. 문장뒤에 [^각주]을 입력하고 다음 문장에 '[^각주]:설명내용'을 입력하면 된다.\n",
    "<br>ex) 나는 주피터 노트북으로 이 보고서를 작성중이다. [^주피터 노트북]\n",
    "\n",
    "[^주피터 노트북]: 주피터 노트북은 아나콘다를 통해 접속 가능하다."
   ]
  },
  {
   "cell_type": "markdown",
   "metadata": {},
   "source": [
    "#### 2-11 코드 블럭\n",
    "일반 문장 사이에 단어, 짧은 문장 단위로 표현할 수 있는 방법과 여러줄의 코드를 삽입하는 방법이 있다.\n",
    "1. 한 줄의 코드를 감싸는 경우 : `를 앞 뒤로 입력한다.\n",
    "\n",
    "<br>ex) 나는 `보고서`를 작성하고 있다.\n",
    "2. 여러 줄의 코드를 감싸는 경우 : 시작과 끝에  ```을 입력하고 내부에 코드를 작성한다.\n",
    "\n",
    "<br>ex) \n",
    "```javascript\n",
    "function func() {\n",
    "  var a = 'AAA';\n",
    "  return a;\n",
    "}\n",
    "```\n"
   ]
  }
 ],
 "metadata": {
  "kernelspec": {
   "display_name": "Python 3",
   "language": "python",
   "name": "python3"
  },
  "language_info": {
   "codemirror_mode": {
    "name": "ipython",
    "version": 3
   },
   "file_extension": ".py",
   "mimetype": "text/x-python",
   "name": "python",
   "nbconvert_exporter": "python",
   "pygments_lexer": "ipython3",
   "version": "3.7.3"
  }
 },
 "nbformat": 4,
 "nbformat_minor": 2
}
