{
  "nbformat": 4,
  "nbformat_minor": 0,
  "metadata": {
    "kernelspec": {
      "display_name": "Python 3",
      "language": "python",
      "name": "python3"
    },
    "language_info": {
      "codemirror_mode": {
        "name": "ipython",
        "version": 3
      },
      "file_extension": ".py",
      "mimetype": "text/x-python",
      "name": "python",
      "nbconvert_exporter": "python",
      "pygments_lexer": "ipython3",
      "version": "3.7.3"
    },
    "colab": {
      "name": "ch5-5.3.ipynb",
      "provenance": [],
      "include_colab_link": true
    }
  },
  "cells": [
    {
      "cell_type": "markdown",
      "metadata": {
        "id": "view-in-github",
        "colab_type": "text"
      },
      "source": [
        "<a href=\"https://colab.research.google.com/github/syeong1218/ysyy/blob/master/ch5_5_3.ipynb\" target=\"_parent\"><img src=\"https://colab.research.google.com/assets/colab-badge.svg\" alt=\"Open In Colab\"/></a>"
      ]
    },
    {
      "cell_type": "markdown",
      "metadata": {
        "id": "nC6JwjBigSPH",
        "colab_type": "text"
      },
      "source": [
        "# 5. 오차역전파법\n",
        "\n",
        "* 수치미분은 단순하고 구현하기 쉽지만 계산 시간이 오래 걸린다.\n",
        "\n",
        "    -> 가중치 매개변수의 기울기를 효율적으로 계산하는 '오차역전파법'\n",
        " \n",
        "* 오차역전파법 이해하는 법\n",
        "    1. 수식\n",
        "    2. 계산 그래프\n",
        "    \n",
        "## 5.1 계산 그래프\n",
        "* 계산그래프는 계산과정을 그래프로 나타낸 것\n",
        "\n",
        "### 5.1.1 계산 그래프로 풀다\n",
        "* 노드 - 원, 원안에 연산 내용\n",
        "* 에지 - 노드 사이의 직선\n",
        "* 계산 그래프를 이용한 문제풀이\n",
        "     1. 계산 그래프를 구성한다.\n",
        "     2. 그래프에서 계산을 왼쪽에서 오른쪽으로 진행한다.-> 순전파\n",
        "     \n",
        "     오른쪽에서 왼쪽으로 진행 -> 역전파 - 미분을 계산할 떄 중요한 역할\n",
        "\n",
        "### 5.1.2 국소적 계산\n",
        "* 국소적 계산은 전체에서 어떤 일이 벌어지든 상관없이 자신과 관계된 정보만으로 결과를 출력할 수 있다.\n",
        "\n",
        "    -> 국소적인 계산은 단순하지만, 그 결과를 전달함으로써 전체를 구성하는 복잡한 계산을 헤낼 수 있다.\n",
        "    \n",
        "### 5.1.3 왜 계산 그래프로 푸느가?\n",
        "* 계산 그래프의 이점\n",
        "    1. 국소적 계산 - 전체가 복잡해도 각 노드에서는 단순한 계산에 집중하여 문제를 단순화할 수 있다.\n",
        "    2. 중간 계산 결과를 모두 보관할 수 있다.\n",
        "    \n",
        "  => 순전파와 역전파를 활용해서 각 변수의 미분을 효율적으로 구할 수 있다.\n",
        "  \n",
        "## 5.2 연쇄법칙\n",
        "* 국소적 미분을 전달하는 원리 -> 연쇄법칙\n",
        "\n",
        "### 5.2.1 계산 그래프의 역전파\n",
        "\n",
        "* 계산 그래프의 역전파 : 순뱡향과는 반대 방향으로 국소적 미분을 곱한다.\n",
        "* 역전파 계산 순서\n",
        "    1. 신호 E에 노드의 국소적미분(dy/dx)을 곱한다.\n",
        "    2. 곱한 값을 다음 노드로 전달한다.\n",
        "  => 미분 값을 효율적으로 구할 수 있다.\n",
        "  \n",
        "### 5.2.2. 연쇄법칙이란?\n",
        "* 합성 함수 : 여러 함수로 구성된 함수\n",
        "* 연쇄법칙 : 합성 함수의 미분에 대한 성질\n",
        "* 연쇄법칙의 원리 : 합성 함수의 미분은 합성 함수를 구성하는 각 함수의 미분의 곱으로 나타낼 수 있다.\n",
        "$$ z = t^{2}$$\n",
        "$$ t=x+y $$\n",
        "$$\\frac{\\partial z}{\\partial x} = \\frac{\\partial z}{\\partial t}\\frac{\\partial t}{\\partial x}$$\n",
        "$$\\frac{\\partial z}{\\partial t}= 2t$$\n",
        "$$\\frac{\\partial t}{\\partial x}= 1$$\n",
        "$$\\frac{\\partial z}{\\partial x}= \\frac{\\partial z}{\\partial t}\\frac{\\partial t}{\\partial x}= 2t\\cdot 1=2(x+y)$$\n",
        "\n",
        "### 5.2.3 연쇄법칙과 계산 그래프\n",
        "\n",
        "## 5.3 역전파\n",
        "\n",
        "### 5.3.1 덧셈 노드의 역전파\n",
        "$$ z=x+y$$\n",
        "$$\\frac{\\partial z}{\\partial x}= 1 $$\n",
        "$$\\frac{\\partial z}{\\partial y}= 1 $$\n",
        "* 덧셈노드의 역전파 : 입력 값을 그대로 흘려보낸다. 최종 출력으로 가는 계산의 중간에 덧셈 노드가 존재한다. 역전파에서는 국소적 미분이 가장 오른쪽의 출력에서 시작하여 노드를 타고 역방향(왼쪽)으로 전파된다.\n",
        "\n",
        "### 5.3.2 곱셉 노드의 역전파\n",
        "$$ z=xy$$\n",
        "$$\\frac{\\partial z}{\\partial x}= y $$\n",
        "$$\\frac{\\partial z}{\\partial y}= x $$\n",
        "* 곱셈 노드 역전파 : 상류의 값에 순전파 때의 입력 신호들을 '서로 바꾼 값'을 곱해서 하류로 보낸다.\n",
        "        서로 바꾼 값 : 순전파 떄 x였다면, 역전파에서는 y\n",
        "        \n",
        "=> 덧셈의 역전파에서는 상류의 값을 그대로 흘려보내서 순방향 입력 신호의 값은 필요하지 않지만, 곱셈의 역전파는 순방향 입력 신호의 값이 필요하다 -> 곱셈 노드를 구현할 때 순전하의 입력 신호를 변수에 저장해둔다.\n",
        "\n",
        "### 5.3.3 사과 쇼핑의 예\n"
      ]
    },
    {
      "cell_type": "code",
      "metadata": {
        "id": "KW8n8IPmgSPL",
        "colab_type": "code",
        "colab": {}
      },
      "source": [
        ""
      ],
      "execution_count": 0,
      "outputs": []
    }
  ]
}