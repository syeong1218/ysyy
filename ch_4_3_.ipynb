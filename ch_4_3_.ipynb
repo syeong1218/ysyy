{
  "nbformat": 4,
  "nbformat_minor": 0,
  "metadata": {
    "colab": {
      "name": "ch_4.3-.ipynb",
      "provenance": [],
      "collapsed_sections": [],
      "include_colab_link": true
    },
    "kernelspec": {
      "display_name": "Python 3",
      "language": "python",
      "name": "python3"
    },
    "language_info": {
      "codemirror_mode": {
        "name": "ipython",
        "version": 3
      },
      "file_extension": ".py",
      "mimetype": "text/x-python",
      "name": "python",
      "nbconvert_exporter": "python",
      "pygments_lexer": "ipython3",
      "version": "3.7.3"
    }
  },
  "cells": [
    {
      "cell_type": "markdown",
      "metadata": {
        "id": "view-in-github",
        "colab_type": "text"
      },
      "source": [
        "<a href=\"https://colab.research.google.com/github/syeong1218/ysyy/blob/master/ch_4_3_.ipynb\" target=\"_parent\"><img src=\"https://colab.research.google.com/assets/colab-badge.svg\" alt=\"Open In Colab\"/></a>"
      ]
    },
    {
      "cell_type": "markdown",
      "metadata": {
        "colab_type": "text",
        "id": "HHFAYc76BX8f"
      },
      "source": [
        "# 4.3 수치미분\n",
        "\n",
        "## 4.3.1 미분\n",
        "\n",
        "* 미분 : 한순간의 변화량\n",
        "$$ \\frac{\\mathrm{d} f(x)}{\\mathrm{d} x}=\\lim_{h\\rightarrow 0}\\frac{f(x+h)-f(x)}{h} $$\n",
        "\n",
        "* 나쁜 구현의 예 "
      ]
    },
    {
      "cell_type": "code",
      "metadata": {
        "colab_type": "code",
        "id": "MatHYHk5CT0a",
        "colab": {}
      },
      "source": [
        "def numerical_diff(f,x):\n",
        "  h=10e-50\n",
        "  return (f(x+h)-f(x))/h"
      ],
      "execution_count": 0,
      "outputs": []
    },
    {
      "cell_type": "markdown",
      "metadata": {
        "colab_type": "text",
        "id": "zrE-KK-ZCw0Q"
      },
      "source": [
        "    이 코드는 아래와 같은 반올림 오차 문제를 일으킨다."
      ]
    },
    {
      "cell_type": "code",
      "metadata": {
        "colab_type": "code",
        "id": "oN9QLpLTCsJ6",
        "outputId": "2a2fe3aa-0aec-4b98-cc5a-750d72aa7adb",
        "colab": {
          "base_uri": "https://localhost:8080/",
          "height": 35
        }
      },
      "source": [
        "import numpy as np\n",
        "np.float32(1e-50)"
      ],
      "execution_count": 0,
      "outputs": [
        {
          "output_type": "execute_result",
          "data": {
            "text/plain": [
              "0.0"
            ]
          },
          "metadata": {
            "tags": []
          },
          "execution_count": 24
        }
      ]
    },
    {
      "cell_type": "markdown",
      "metadata": {
        "colab_type": "text",
        "id": "mYlIjjvFDNJv"
      },
      "source": [
        "    또한, 진정한 미분은 x위치의 함수의 기울기이지만, 이 코드에서의 미분은 (x+h)와 x사이의 기울기에 해당한다. 따라서 h를 무한히 0으로 좁히는 것이 불가능하다.\n",
        "    \n",
        "* 두가지 문제점을 개선한 수치 미분"
      ]
    },
    {
      "cell_type": "code",
      "metadata": {
        "colab_type": "code",
        "id": "106cYoPvC8Zr",
        "colab": {}
      },
      "source": [
        "def numerical_diff(f,x):\n",
        "  h=1e-4\n",
        "  return (f(x+h)-f(x-h))/(2*h)"
      ],
      "execution_count": 0,
      "outputs": []
    },
    {
      "cell_type": "markdown",
      "metadata": {
        "colab_type": "text",
        "id": "KIcmh5twHNfx"
      },
      "source": [
        "## 4.3.2 수치 미분의 예\n",
        "\n",
        "$$ y=0.01x^{2}+0.1x$$"
      ]
    },
    {
      "cell_type": "code",
      "metadata": {
        "colab_type": "code",
        "id": "8NX3RLswD3Ap",
        "colab": {}
      },
      "source": [
        "def function_1(x):\n",
        "  return 0.01*x**2+0.1*x"
      ],
      "execution_count": 0,
      "outputs": []
    },
    {
      "cell_type": "code",
      "metadata": {
        "colab_type": "code",
        "id": "BqPrm_YkHnNo",
        "outputId": "e60f11d6-aae0-45d7-8d95-2f99decccd06",
        "colab": {
          "base_uri": "https://localhost:8080/",
          "height": 283
        }
      },
      "source": [
        "import numpy as np\n",
        "import matplotlib.pyplot as plt\n",
        "\n",
        "x= np.arange(0.0, 20.0, 0.1)\n",
        "y=function_1(x)\n",
        "plt.xlabel(\"x\")\n",
        "plt.ylabel(\"y\")\n",
        "plt.plot(x,y)\n",
        "plt.show()"
      ],
      "execution_count": 0,
      "outputs": [
        {
          "output_type": "display_data",
          "data": {
            "image/png": "[encoded data removed]",
            "text/plain": [
              "<Figure size 432x288 with 1 Axes>"
            ]
          },
          "metadata": {
            "tags": [],
            "needs_background": "light"
          }
        }
      ]
    },
    {
      "cell_type": "markdown",
      "metadata": {
        "colab_type": "text",
        "id": "UVJU4oJMH_hx"
      },
      "source": [
        "    x=5일 때와 10일 때 미분"
      ]
    },
    {
      "cell_type": "code",
      "metadata": {
        "colab_type": "code",
        "id": "XuR738HkH8be",
        "outputId": "45d0627a-7b36-41b1-a67f-dadf41535414",
        "colab": {
          "base_uri": "https://localhost:8080/",
          "height": 35
        }
      },
      "source": [
        "numerical_diff(function_1, 5)"
      ],
      "execution_count": 0,
      "outputs": [
        {
          "output_type": "execute_result",
          "data": {
            "text/plain": [
              "0.1999999999990898"
            ]
          },
          "metadata": {
            "tags": []
          },
          "execution_count": 28
        }
      ]
    },
    {
      "cell_type": "code",
      "metadata": {
        "colab_type": "code",
        "id": "A9HqCNaSILIv",
        "outputId": "149ddea3-bce5-486e-d53b-6d1123832464",
        "colab": {
          "base_uri": "https://localhost:8080/",
          "height": 35
        }
      },
      "source": [
        "numerical_diff(function_1 ,10)"
      ],
      "execution_count": 0,
      "outputs": [
        {
          "output_type": "execute_result",
          "data": {
            "text/plain": [
              "0.2999999999986347"
            ]
          },
          "metadata": {
            "tags": []
          },
          "execution_count": 29
        }
      ]
    },
    {
      "cell_type": "code",
      "metadata": {
        "colab_type": "code",
        "id": "_YOgBqOiIP9h",
        "colab": {}
      },
      "source": [
        ""
      ],
      "execution_count": 0,
      "outputs": []
    },
    {
      "cell_type": "markdown",
      "metadata": {
        "colab_type": "text",
        "id": "8TQBsByLLr0o"
      },
      "source": [
        "## 4.3.3 편미분\n",
        "\n",
        "$$ f(x_{0},x_{1})=x_{0}^{2}+x_{1}^{2} $$"
      ]
    },
    {
      "cell_type": "code",
      "metadata": {
        "colab_type": "code",
        "id": "QTuLZ_HjL8Pv",
        "colab": {}
      },
      "source": [
        "def function_2(x):\n",
        "  return x[0]**2+x[1]**2"
      ],
      "execution_count": 0,
      "outputs": []
    },
    {
      "cell_type": "markdown",
      "metadata": {
        "colab_type": "text",
        "id": "q8bICYM8OY9h"
      },
      "source": [
        "* 편미분 : 변수가 여러개인 함수에 대한 미분\n",
        "\n",
        "    -> 문제1 : x0=3, x1=4일 때, x0에 대한 편미분을 구하라."
      ]
    },
    {
      "cell_type": "code",
      "metadata": {
        "colab_type": "code",
        "id": "0OIpXaX6McUv",
        "outputId": "3b3b805f-ac74-4cfc-c81f-857d875577d0",
        "colab": {
          "base_uri": "https://localhost:8080/",
          "height": 35
        }
      },
      "source": [
        "def function_tmp1(x0):\n",
        "  return x0*x0 +4.0**2.0\n",
        "\n",
        "numerical_diff(function_tmp1, 3.0)"
      ],
      "execution_count": 0,
      "outputs": [
        {
          "output_type": "execute_result",
          "data": {
            "text/plain": [
              "6.00000000000378"
            ]
          },
          "metadata": {
            "tags": []
          },
          "execution_count": 32
        }
      ]
    },
    {
      "cell_type": "markdown",
      "metadata": {
        "colab_type": "text",
        "id": "8HvNs4MqPNbq"
      },
      "source": [
        "      -> 문제2 : x0=3, x1=4일 때, x1에 대한 편미분을 구하라."
      ]
    },
    {
      "cell_type": "code",
      "metadata": {
        "colab_type": "code",
        "id": "XOn4Rg-6PZT-",
        "outputId": "cb37d9e0-495c-44f6-fa85-8eb2309177ff",
        "colab": {
          "base_uri": "https://localhost:8080/",
          "height": 35
        }
      },
      "source": [
        "def function_tmp2(x1):\n",
        "  return 3.0**2.0 +x1*x1\n",
        "\n",
        "numerical_diff(function_tmp2, 4.0)"
      ],
      "execution_count": 0,
      "outputs": [
        {
          "output_type": "execute_result",
          "data": {
            "text/plain": [
              "7.999999999999119"
            ]
          },
          "metadata": {
            "tags": []
          },
          "execution_count": 33
        }
      ]
    },
    {
      "cell_type": "markdown",
      "metadata": {
        "colab_type": "text",
        "id": "Rab3Zcy5Kk6b"
      },
      "source": [
        "# 4.4 기울기\n",
        "\n",
        "기울기 : 모든 변수의 편미분을 벡터로 정리한 것"
      ]
    },
    {
      "cell_type": "code",
      "metadata": {
        "colab_type": "code",
        "id": "MjShiQp1Pri-",
        "colab": {}
      },
      "source": [
        "import numpy as  np\n",
        "def numerical_gradient(f,x):\n",
        "  h=1e-4\n",
        "  grad = np.zeros_like(x)\n",
        "  \n",
        "  for idx in range(x.size):\n",
        "    tmp_val = x[idx]\n",
        "    x[idx] = tmp_val +h\n",
        "    fxh1 = f(x)\n",
        "    \n",
        "    x[idx] = tmp_val - h\n",
        "    fxh2 = f(x)\n",
        "    \n",
        "    grad[idx] = (fxh1 - fxh2) / (2*h)\n",
        "    x[idx] = tmp_val\n",
        "    \n",
        "  return grad"
      ],
      "execution_count": 0,
      "outputs": []
    },
    {
      "cell_type": "code",
      "metadata": {
        "colab_type": "code",
        "id": "xXNBWdL9LahT",
        "outputId": "befebcd3-a6b6-4d19-9f61-b622e9b0b3f2",
        "colab": {
          "base_uri": "https://localhost:8080/",
          "height": 35
        }
      },
      "source": [
        "numerical_gradient(function_2, np.array([3.0, 4.0]))"
      ],
      "execution_count": 0,
      "outputs": [
        {
          "output_type": "execute_result",
          "data": {
            "text/plain": [
              "array([6., 8.])"
            ]
          },
          "metadata": {
            "tags": []
          },
          "execution_count": 35
        }
      ]
    },
    {
      "cell_type": "code",
      "metadata": {
        "colab_type": "code",
        "id": "3LZ_xRthL45p",
        "outputId": "b930ce11-f2f2-43eb-8e6d-8485e792ff14",
        "colab": {
          "base_uri": "https://localhost:8080/",
          "height": 35
        }
      },
      "source": [
        "numerical_gradient(function_2, np.array([0.0, 2.0]))"
      ],
      "execution_count": 0,
      "outputs": [
        {
          "output_type": "execute_result",
          "data": {
            "text/plain": [
              "array([0., 4.])"
            ]
          },
          "metadata": {
            "tags": []
          },
          "execution_count": 36
        }
      ]
    },
    {
      "cell_type": "code",
      "metadata": {
        "colab_type": "code",
        "id": "wJkUoEJbMMOL",
        "outputId": "0edd938e-9265-4ed9-bc0a-e292d425c620",
        "colab": {
          "base_uri": "https://localhost:8080/",
          "height": 35
        }
      },
      "source": [
        "numerical_gradient(function_2, np.array([3.0, 0.0]))"
      ],
      "execution_count": 0,
      "outputs": [
        {
          "output_type": "execute_result",
          "data": {
            "text/plain": [
              "array([6., 0.])"
            ]
          },
          "metadata": {
            "tags": []
          },
          "execution_count": 37
        }
      ]
    },
    {
      "cell_type": "code",
      "metadata": {
        "colab_type": "code",
        "id": "5tCf1kgLPtks",
        "outputId": "336abe31-cebd-48a0-e2b1-0a7342a1dab3",
        "colab": {
          "base_uri": "https://localhost:8080/",
          "height": 301
        }
      },
      "source": [
        "import numpy as np\n",
        "import matplotlib.pylab as plt\n",
        "from mpl_toolkits.mplot3d import Axes3D\n",
        "\n",
        "\n",
        "def _numerical_gradient_no_batch(f, x):\n",
        "    h = 1e-4 \n",
        "    grad = np.zeros_like(x) \n",
        "    \n",
        "    for idx in range(x.size):\n",
        "        tmp_val = x[idx]\n",
        "        \n",
        "        \n",
        "        x[idx] = float(tmp_val) + h\n",
        "        fxh1 = f(x)\n",
        "        \n",
        "        \n",
        "        x[idx] = tmp_val - h \n",
        "        fxh2 = f(x) \n",
        "        \n",
        "        grad[idx] = (fxh1 - fxh2) / (2*h)\n",
        "        x[idx] = tmp_val\n",
        "        \n",
        "    return grad\n",
        "\n",
        "\n",
        "def numerical_gradient(f, X):\n",
        "    if X.ndim == 1:\n",
        "        return _numerical_gradient_no_batch(f, X)\n",
        "    else:\n",
        "        grad = np.zeros_like(X)\n",
        "        \n",
        "        for idx, x in enumerate(X):\n",
        "            grad[idx] = _numerical_gradient_no_batch(f, x)\n",
        "        \n",
        "        return grad\n",
        "\n",
        "\n",
        "def function_2(x):\n",
        "    if x.ndim == 1:\n",
        "        return np.sum(x**2)\n",
        "    else:\n",
        "        return np.sum(x**2, axis=1)\n",
        "\n",
        "\n",
        "def tangent_line(f, x):\n",
        "    d = numerical_gradient(f, x)\n",
        "    print(d)\n",
        "    y = f(x) - d*x\n",
        "    return lambda t: d*t + y\n",
        "     \n",
        "if __name__ == '__main__':\n",
        "    x0 = np.arange(-2, 2.5, 0.25)\n",
        "    x1 = np.arange(-2, 2.5, 0.25)\n",
        "    X, Y = np.meshgrid(x0, x1)\n",
        "    \n",
        "    X = X.flatten()\n",
        "    Y = Y.flatten()\n",
        "    \n",
        "    grad = numerical_gradient(function_2, np.array([X, Y]) )\n",
        "    \n",
        "plt.figure()\n",
        "plt.quiver(X, Y, -grad[0], -grad[1],  angles=\"xy\",color=\"#666666\")\n",
        "plt.xlim([-2, 2])\n",
        "plt.ylim([-2, 2])\n",
        "plt.xlabel('x0')\n",
        "plt.ylabel('x1')\n",
        "plt.grid()\n",
        "plt.legend()\n",
        "plt.draw()\n",
        "plt.show()"
      ],
      "execution_count": 0,
      "outputs": [
        {
          "output_type": "stream",
          "text": [
            "No handles with labels found to put in legend.\n"
          ],
          "name": "stderr"
        },
        {
          "output_type": "display_data",
          "data": {
            "image/png": "[encoded data removed]",
            "text/plain": [
              "<Figure size 432x288 with 1 Axes>"
            ]
          },
          "metadata": {
            "tags": [],
            "needs_background": "light"
          }
        }
      ]
    },
    {
      "cell_type": "markdown",
      "metadata": {
        "colab_type": "text",
        "id": "R479JhAwOQv5"
      },
      "source": [
        "기울기는 각 지점에서 낮아지는 뱡향을 가리킨다. 따라서 기울기가 가리키는 쪽은 각 장소에서 함수의 출력 값을 가장 크게 줄이는 방향이다."
      ]
    },
    {
      "cell_type": "markdown",
      "metadata": {
        "colab_type": "text",
        "id": "mQkCbgBjOTUf"
      },
      "source": [
        "## 4.4.1 경사법(경사 하강법)\n",
        "\n",
        "기계학습 문제은 학습단계에서 최적의 매개변수를 찾는다.\n",
        "\n",
        "여기서 최적이란 손실 함수가 최솟값이 될 때의 매개변수 값이다.\n",
        "\n",
        "* 경사법 : 기울기를 잘 이용해 함수의 최솟값을 찾는 법, 현 위치에서 기울어진 방향으로 일정 거리만큼 이동한 다음 그곳에서의 기울기를 구하고, 또 그 기울어진 방향으로 이동을 반복하여 함수의 값을 점차 줄이는 것.\n",
        "\n",
        "  * 주의할 점 - 각 지점에서 함수의 값을 낮추는 방안을 제시하는 지표가 기울기라는 점\n",
        "       \n",
        "  * 경사 하강법 - 경사법으로 최솟값을 찾을 때\n",
        "  \n",
        "  * 경사 상승법 - 경사법으로 최댓값을 찾을 때\n",
        "  \n",
        "  $$ x_{0} = x_{0}-\\eta \\frac{\\partial f }{\\partial x_{0}}$$\n",
        "  $$x_{1} = x_{1}-\\eta \\frac{\\partial f }{\\partial x_{1}} $$\n",
        "  \n",
        "  $$\\eta=학습률$$\n"
      ]
    },
    {
      "cell_type": "code",
      "metadata": {
        "colab_type": "code",
        "id": "ZXqfppflOAHA",
        "colab": {}
      },
      "source": [
        "def gradient_descent(f, init_x, lr=0.01, step_num=100): #f= 최적화하려는 함수, init_x = 초기값, lr = 학습률, step_num = 경사법에 따른 반복 횟수\n",
        "  x = init_x\n",
        "  \n",
        "  for i in range(step_num):\n",
        "    grad = numerical_gradient(f,x)\n",
        "    x-=lr*grad\n",
        "  return x"
      ],
      "execution_count": 0,
      "outputs": []
    },
    {
      "cell_type": "markdown",
      "metadata": {
        "colab_type": "text",
        "id": "MhEGfQP_et1G"
      },
      "source": [
        "$$ 문제 : f(x_{0},x_{1})=x_{0}^{2}+x_{1}^{2}의 최솟값을 구하라.$$"
      ]
    },
    {
      "cell_type": "code",
      "metadata": {
        "colab_type": "code",
        "id": "pymC4KXreSTp",
        "outputId": "b6e8397c-bbe7-4bee-e866-4db2034ed130",
        "colab": {
          "base_uri": "https://localhost:8080/",
          "height": 35
        }
      },
      "source": [
        "def function_2(x):\n",
        "  return x[0]**2+x[1]**2\n",
        "\n",
        "init_x=np.array([-3.0,4.0])\n",
        "gradient_descent(function_2, init_x=init_x, lr=0.1,step_num=100)"
      ],
      "execution_count": 0,
      "outputs": [
        {
          "output_type": "execute_result",
          "data": {
            "text/plain": [
              "array([-6.11110793e-10,  8.14814391e-10])"
            ]
          },
          "metadata": {
            "tags": []
          },
          "execution_count": 40
        }
      ]
    },
    {
      "cell_type": "code",
      "metadata": {
        "colab_type": "code",
        "id": "pwDtJe0uer3I",
        "outputId": "7adacc03-161e-4991-e8cc-e368240c67f3",
        "colab": {
          "base_uri": "https://localhost:8080/",
          "height": 283
        }
      },
      "source": [
        "import numpy as np\n",
        "import matplotlib.pylab as plt\n",
        "\n",
        "\n",
        "def gradient_descent(f, init_x, lr=0.01, step_num=100):\n",
        "    x = init_x\n",
        "    x_history = []\n",
        "\n",
        "    for i in range(step_num):\n",
        "        x_history.append( x.copy() )\n",
        "\n",
        "        grad = numerical_gradient(f, x)\n",
        "        x -= lr * grad\n",
        "\n",
        "    return x, np.array(x_history)\n",
        "\n",
        "\n",
        "def function_2(x):\n",
        "    return x[0]**2 + x[1]**2\n",
        "\n",
        "init_x = np.array([-3.0, 4.0])    \n",
        "\n",
        "lr = 0.1\n",
        "step_num = 20\n",
        "x, x_history = gradient_descent(function_2, init_x, lr=lr, step_num=step_num)\n",
        "\n",
        "plt.plot( [-5, 5], [0,0], '--b')\n",
        "plt.plot( [0,0], [-5, 5], '--b')\n",
        "plt.plot(x_history[:,0], x_history[:,1], 'o')\n",
        "\n",
        "plt.xlim(-3.5, 3.5)\n",
        "plt.ylim(-4.5, 4.5)\n",
        "plt.xlabel(\"X0\")\n",
        "plt.ylabel(\"X1\")\n",
        "plt.show()"
      ],
      "execution_count": 0,
      "outputs": [
        {
          "output_type": "display_data",
          "data": {
            "image/png": "[encoded data removed]",
            "text/plain": [
              "<Figure size 432x288 with 1 Axes>"
            ]
          },
          "metadata": {
            "tags": [],
            "needs_background": "light"
          }
        }
      ]
    },
    {
      "cell_type": "code",
      "metadata": {
        "colab_type": "code",
        "id": "Y20E8SiSlA8I",
        "outputId": "8788cd25-0820-4079-9fc6-037cf94603cd",
        "colab": {
          "base_uri": "https://localhost:8080/",
          "height": 1000
        }
      },
      "source": [
        "# 학습률이 너무 큰 예 : lr=10.0\n",
        "init_x = np.array([-3.0,4.0])\n",
        "gradient_descent(function_2, init_x=init_x, lr=10.0, step_num=100)"
      ],
      "execution_count": 0,
      "outputs": [
        {
          "output_type": "execute_result",
          "data": {
            "text/plain": [
              "(array([-2.58983747e+13, -1.29524862e+12]),\n",
              " array([[-3.00000000e+00,  4.00000000e+00],\n",
              "        [ 5.70000000e+01, -7.60000000e+01],\n",
              "        [-1.08300000e+03,  1.44400000e+03],\n",
              "        [ 2.05770000e+04, -2.74360000e+04],\n",
              "        [-3.90963008e+05,  5.21284002e+05],\n",
              "        [ 7.42829664e+06, -9.90439654e+06],\n",
              "        [-1.41137328e+08,  1.88183103e+08],\n",
              "        [ 2.68126267e+09, -3.57501690e+09],\n",
              "        [-5.09763373e+10,  6.79001831e+10],\n",
              "        [ 9.45170863e+11, -1.29524862e+12],\n",
              "        [-2.58983747e+13, -1.29524862e+12],\n",
              "        [-2.58983747e+13, -1.29524862e+12],\n",
              "        [-2.58983747e+13, -1.29524862e+12],\n",
              "        [-2.58983747e+13, -1.29524862e+12],\n",
              "        [-2.58983747e+13, -1.29524862e+12],\n",
              "        [-2.58983747e+13, -1.29524862e+12],\n",
              "        [-2.58983747e+13, -1.29524862e+12],\n",
              "        [-2.58983747e+13, -1.29524862e+12],\n",
              "        [-2.58983747e+13, -1.29524862e+12],\n",
              "        [-2.58983747e+13, -1.29524862e+12],\n",
              "        [-2.58983747e+13, -1.29524862e+12],\n",
              "        [-2.58983747e+13, -1.29524862e+12],\n",
              "        [-2.58983747e+13, -1.29524862e+12],\n",
              "        [-2.58983747e+13, -1.29524862e+12],\n",
              "        [-2.58983747e+13, -1.29524862e+12],\n",
              "        [-2.58983747e+13, -1.29524862e+12],\n",
              "        [-2.58983747e+13, -1.29524862e+12],\n",
              "        [-2.58983747e+13, -1.29524862e+12],\n",
              "        [-2.58983747e+13, -1.29524862e+12],\n",
              "        [-2.58983747e+13, -1.29524862e+12],\n",
              "        [-2.58983747e+13, -1.29524862e+12],\n",
              "        [-2.58983747e+13, -1.29524862e+12],\n",
              "        [-2.58983747e+13, -1.29524862e+12],\n",
              "        [-2.58983747e+13, -1.29524862e+12],\n",
              "        [-2.58983747e+13, -1.29524862e+12],\n",
              "        [-2.58983747e+13, -1.29524862e+12],\n",
              "        [-2.58983747e+13, -1.29524862e+12],\n",
              "        [-2.58983747e+13, -1.29524862e+12],\n",
              "        [-2.58983747e+13, -1.29524862e+12],\n",
              "        [-2.58983747e+13, -1.29524862e+12],\n",
              "        [-2.58983747e+13, -1.29524862e+12],\n",
              "        [-2.58983747e+13, -1.29524862e+12],\n",
              "        [-2.58983747e+13, -1.29524862e+12],\n",
              "        [-2.58983747e+13, -1.29524862e+12],\n",
              "        [-2.58983747e+13, -1.29524862e+12],\n",
              "        [-2.58983747e+13, -1.29524862e+12],\n",
              "        [-2.58983747e+13, -1.29524862e+12],\n",
              "        [-2.58983747e+13, -1.29524862e+12],\n",
              "        [-2.58983747e+13, -1.29524862e+12],\n",
              "        [-2.58983747e+13, -1.29524862e+12],\n",
              "        [-2.58983747e+13, -1.29524862e+12],\n",
              "        [-2.58983747e+13, -1.29524862e+12],\n",
              "        [-2.58983747e+13, -1.29524862e+12],\n",
              "        [-2.58983747e+13, -1.29524862e+12],\n",
              "        [-2.58983747e+13, -1.29524862e+12],\n",
              "        [-2.58983747e+13, -1.29524862e+12],\n",
              "        [-2.58983747e+13, -1.29524862e+12],\n",
              "        [-2.58983747e+13, -1.29524862e+12],\n",
              "        [-2.58983747e+13, -1.29524862e+12],\n",
              "        [-2.58983747e+13, -1.29524862e+12],\n",
              "        [-2.58983747e+13, -1.29524862e+12],\n",
              "        [-2.58983747e+13, -1.29524862e+12],\n",
              "        [-2.58983747e+13, -1.29524862e+12],\n",
              "        [-2.58983747e+13, -1.29524862e+12],\n",
              "        [-2.58983747e+13, -1.29524862e+12],\n",
              "        [-2.58983747e+13, -1.29524862e+12],\n",
              "        [-2.58983747e+13, -1.29524862e+12],\n",
              "        [-2.58983747e+13, -1.29524862e+12],\n",
              "        [-2.58983747e+13, -1.29524862e+12],\n",
              "        [-2.58983747e+13, -1.29524862e+12],\n",
              "        [-2.58983747e+13, -1.29524862e+12],\n",
              "        [-2.58983747e+13, -1.29524862e+12],\n",
              "        [-2.58983747e+13, -1.29524862e+12],\n",
              "        [-2.58983747e+13, -1.29524862e+12],\n",
              "        [-2.58983747e+13, -1.29524862e+12],\n",
              "        [-2.58983747e+13, -1.29524862e+12],\n",
              "        [-2.58983747e+13, -1.29524862e+12],\n",
              "        [-2.58983747e+13, -1.29524862e+12],\n",
              "        [-2.58983747e+13, -1.29524862e+12],\n",
              "        [-2.58983747e+13, -1.29524862e+12],\n",
              "        [-2.58983747e+13, -1.29524862e+12],\n",
              "        [-2.58983747e+13, -1.29524862e+12],\n",
              "        [-2.58983747e+13, -1.29524862e+12],\n",
              "        [-2.58983747e+13, -1.29524862e+12],\n",
              "        [-2.58983747e+13, -1.29524862e+12],\n",
              "        [-2.58983747e+13, -1.29524862e+12],\n",
              "        [-2.58983747e+13, -1.29524862e+12],\n",
              "        [-2.58983747e+13, -1.29524862e+12],\n",
              "        [-2.58983747e+13, -1.29524862e+12],\n",
              "        [-2.58983747e+13, -1.29524862e+12],\n",
              "        [-2.58983747e+13, -1.29524862e+12],\n",
              "        [-2.58983747e+13, -1.29524862e+12],\n",
              "        [-2.58983747e+13, -1.29524862e+12],\n",
              "        [-2.58983747e+13, -1.29524862e+12],\n",
              "        [-2.58983747e+13, -1.29524862e+12],\n",
              "        [-2.58983747e+13, -1.29524862e+12],\n",
              "        [-2.58983747e+13, -1.29524862e+12],\n",
              "        [-2.58983747e+13, -1.29524862e+12],\n",
              "        [-2.58983747e+13, -1.29524862e+12],\n",
              "        [-2.58983747e+13, -1.29524862e+12]]))"
            ]
          },
          "metadata": {
            "tags": []
          },
          "execution_count": 21
        }
      ]
    },
    {
      "cell_type": "code",
      "metadata": {
        "colab_type": "code",
        "id": "KBdch6l7lyx9",
        "outputId": "ab4a134f-c712-4773-b68c-842348aae340",
        "colab": {
          "base_uri": "https://localhost:8080/",
          "height": 1000
        }
      },
      "source": [
        "# 학습률이 너무 작은 예 : lr=1e-10\n",
        "init_x = np.array([-3.0,4.0])\n",
        "gradient_descent(function_2, init_x=init_x, lr=1e-10, step_num=100)"
      ],
      "execution_count": 0,
      "outputs": [
        {
          "output_type": "execute_result",
          "data": {
            "text/plain": [
              "(array([-2.99999994,  3.99999992]), array([[-3.        ,  4.        ],\n",
              "        [-3.        ,  4.        ],\n",
              "        [-3.        ,  4.        ],\n",
              "        [-3.        ,  4.        ],\n",
              "        [-3.        ,  4.        ],\n",
              "        [-3.        ,  4.        ],\n",
              "        [-3.        ,  4.        ],\n",
              "        [-3.        ,  3.99999999],\n",
              "        [-3.        ,  3.99999999],\n",
              "        [-2.99999999,  3.99999999],\n",
              "        [-2.99999999,  3.99999999],\n",
              "        [-2.99999999,  3.99999999],\n",
              "        [-2.99999999,  3.99999999],\n",
              "        [-2.99999999,  3.99999999],\n",
              "        [-2.99999999,  3.99999999],\n",
              "        [-2.99999999,  3.99999999],\n",
              "        [-2.99999999,  3.99999999],\n",
              "        [-2.99999999,  3.99999999],\n",
              "        [-2.99999999,  3.99999999],\n",
              "        [-2.99999999,  3.99999998],\n",
              "        [-2.99999999,  3.99999998],\n",
              "        [-2.99999999,  3.99999998],\n",
              "        [-2.99999999,  3.99999998],\n",
              "        [-2.99999999,  3.99999998],\n",
              "        [-2.99999999,  3.99999998],\n",
              "        [-2.99999998,  3.99999998],\n",
              "        [-2.99999998,  3.99999998],\n",
              "        [-2.99999998,  3.99999998],\n",
              "        [-2.99999998,  3.99999998],\n",
              "        [-2.99999998,  3.99999998],\n",
              "        [-2.99999998,  3.99999998],\n",
              "        [-2.99999998,  3.99999998],\n",
              "        [-2.99999998,  3.99999997],\n",
              "        [-2.99999998,  3.99999997],\n",
              "        [-2.99999998,  3.99999997],\n",
              "        [-2.99999998,  3.99999997],\n",
              "        [-2.99999998,  3.99999997],\n",
              "        [-2.99999998,  3.99999997],\n",
              "        [-2.99999998,  3.99999997],\n",
              "        [-2.99999998,  3.99999997],\n",
              "        [-2.99999998,  3.99999997],\n",
              "        [-2.99999998,  3.99999997],\n",
              "        [-2.99999997,  3.99999997],\n",
              "        [-2.99999997,  3.99999997],\n",
              "        [-2.99999997,  3.99999996],\n",
              "        [-2.99999997,  3.99999996],\n",
              "        [-2.99999997,  3.99999996],\n",
              "        [-2.99999997,  3.99999996],\n",
              "        [-2.99999997,  3.99999996],\n",
              "        [-2.99999997,  3.99999996],\n",
              "        [-2.99999997,  3.99999996],\n",
              "        [-2.99999997,  3.99999996],\n",
              "        [-2.99999997,  3.99999996],\n",
              "        [-2.99999997,  3.99999996],\n",
              "        [-2.99999997,  3.99999996],\n",
              "        [-2.99999997,  3.99999996],\n",
              "        [-2.99999997,  3.99999996],\n",
              "        [-2.99999997,  3.99999995],\n",
              "        [-2.99999997,  3.99999995],\n",
              "        [-2.99999996,  3.99999995],\n",
              "        [-2.99999996,  3.99999995],\n",
              "        [-2.99999996,  3.99999995],\n",
              "        [-2.99999996,  3.99999995],\n",
              "        [-2.99999996,  3.99999995],\n",
              "        [-2.99999996,  3.99999995],\n",
              "        [-2.99999996,  3.99999995],\n",
              "        [-2.99999996,  3.99999995],\n",
              "        [-2.99999996,  3.99999995],\n",
              "        [-2.99999996,  3.99999995],\n",
              "        [-2.99999996,  3.99999994],\n",
              "        [-2.99999996,  3.99999994],\n",
              "        [-2.99999996,  3.99999994],\n",
              "        [-2.99999996,  3.99999994],\n",
              "        [-2.99999996,  3.99999994],\n",
              "        [-2.99999996,  3.99999994],\n",
              "        [-2.99999995,  3.99999994],\n",
              "        [-2.99999995,  3.99999994],\n",
              "        [-2.99999995,  3.99999994],\n",
              "        [-2.99999995,  3.99999994],\n",
              "        [-2.99999995,  3.99999994],\n",
              "        [-2.99999995,  3.99999994],\n",
              "        [-2.99999995,  3.99999994],\n",
              "        [-2.99999995,  3.99999993],\n",
              "        [-2.99999995,  3.99999993],\n",
              "        [-2.99999995,  3.99999993],\n",
              "        [-2.99999995,  3.99999993],\n",
              "        [-2.99999995,  3.99999993],\n",
              "        [-2.99999995,  3.99999993],\n",
              "        [-2.99999995,  3.99999993],\n",
              "        [-2.99999995,  3.99999993],\n",
              "        [-2.99999995,  3.99999993],\n",
              "        [-2.99999995,  3.99999993],\n",
              "        [-2.99999994,  3.99999993],\n",
              "        [-2.99999994,  3.99999993],\n",
              "        [-2.99999994,  3.99999992],\n",
              "        [-2.99999994,  3.99999992],\n",
              "        [-2.99999994,  3.99999992],\n",
              "        [-2.99999994,  3.99999992],\n",
              "        [-2.99999994,  3.99999992],\n",
              "        [-2.99999994,  3.99999992]]))"
            ]
          },
          "metadata": {
            "tags": []
          },
          "execution_count": 42
        }
      ]
    },
    {
      "cell_type": "markdown",
      "metadata": {
        "colab_type": "text",
        "id": "gRT0GBA3mD1u"
      },
      "source": [
        "## 4.4.2 신경망에서의 기울기\n",
        "\n",
        "$$ W=가중치, L=손실함수$$\n",
        "\n",
        "$$W=\\binom{w_{11} w_{12} w_{13}}{w_{21}w_{22}w_{23}}$$\n",
        "\n",
        "$$ \\frac{\\partial L}{\\partial W}=\\binom{\\frac{\\partial L}{\\partial w_{11}}\\frac{\\partial L}{\\partial w_{12}}\\frac{\\partial L}{\\partial w_{13}}}{\\frac{\\partial L}{\\partial w_{21}}\\frac{\\partial L}{\\partial w_{22}}\\frac{\\partial L}{\\partial w_{23}}}$$"
      ]
    },
    {
      "cell_type": "code",
      "metadata": {
        "colab_type": "code",
        "id": "6XhSr7Yrl-cG",
        "colab": {}
      },
      "source": [
        "import sys, os\n",
        "sys.path.append(os.pardir)  \n",
        "import numpy as np\n",
        "from common.functions import softmax, cross_entropy_error\n",
        "from common.gradient import numerical_gradient\n",
        "\n",
        "\n",
        "class simpleNet:\n",
        "    def __init__(self):\n",
        "        self.W = np.random.randn(2,3) \n",
        "\n",
        "    def predict(self, x):\n",
        "        return np.dot(x, self.W)\n",
        "\n",
        "    def loss(self, x, t):\n",
        "        z = self.predict(x)\n",
        "        y = softmax(z)\n",
        "        loss = cross_entropy_error(y, t)\n",
        "\n",
        "        return loss"
      ],
      "execution_count": 0,
      "outputs": []
    },
    {
      "cell_type": "code",
      "metadata": {
        "id": "A1H0F7Ny-WAK",
        "colab_type": "code",
        "colab": {},
        "outputId": "62bd9ba6-a5c7-4448-fc7b-e55cbcf23f30"
      },
      "source": [
        "net = simpleNet()\n",
        "print(net.W)"
      ],
      "execution_count": 0,
      "outputs": [
        {
          "output_type": "stream",
          "text": [
            "[[ 0.22555442  0.19171414 -0.30336937]\n",
            " [-0.65497285  1.01489547  0.26507874]]\n"
          ],
          "name": "stdout"
        }
      ]
    },
    {
      "cell_type": "code",
      "metadata": {
        "id": "1vI-iGue-WAb",
        "colab_type": "code",
        "colab": {},
        "outputId": "5f564f3e-6549-4bfb-c489-aec2f7bb968a"
      },
      "source": [
        "x = np.array([0.6, 0.9])\n",
        "p=net.predict(x)\n",
        "print(p)"
      ],
      "execution_count": 0,
      "outputs": [
        {
          "output_type": "stream",
          "text": [
            "[-0.45414291  1.0284344   0.05654924]\n"
          ],
          "name": "stdout"
        }
      ]
    },
    {
      "cell_type": "code",
      "metadata": {
        "id": "epVDiejP-WAq",
        "colab_type": "code",
        "colab": {},
        "outputId": "51660861-5368-4e26-dd0b-13a98ce778d0"
      },
      "source": [
        "np.argmax(p)"
      ],
      "execution_count": 0,
      "outputs": [
        {
          "output_type": "execute_result",
          "data": {
            "text/plain": [
              "1"
            ]
          },
          "metadata": {
            "tags": []
          },
          "execution_count": 57
        }
      ]
    },
    {
      "cell_type": "code",
      "metadata": {
        "id": "WAgDfdbO-WA4",
        "colab_type": "code",
        "colab": {},
        "outputId": "eef31fc1-e135-4e9e-a86b-8c64aad450ea"
      },
      "source": [
        "t = np.array([0, 0, 1])\n",
        "net.loss(x,t)"
      ],
      "execution_count": 0,
      "outputs": [
        {
          "output_type": "execute_result",
          "data": {
            "text/plain": [
              "1.445270654415886"
            ]
          },
          "metadata": {
            "tags": []
          },
          "execution_count": 58
        }
      ]
    },
    {
      "cell_type": "code",
      "metadata": {
        "id": "FCSeMozt-WBG",
        "colab_type": "code",
        "colab": {},
        "outputId": "f272a58b-3f0a-4d52-feb1-d04a8aa29ff1"
      },
      "source": [
        "def f(W):\n",
        "    return net.loss(x,t)\n",
        "\n",
        "dW=numerical_gradient(f,net.W)\n",
        "print(dW)"
      ],
      "execution_count": 0,
      "outputs": [
        {
          "output_type": "stream",
          "text": [
            "[[ 0.03223067  0.36422563 -0.39645629]\n",
            " [ 0.048346    0.54633844 -0.59468444]]\n"
          ],
          "name": "stdout"
        }
      ]
    },
    {
      "cell_type": "markdown",
      "metadata": {
        "id": "kvmQliyM-WBT",
        "colab_type": "text"
      },
      "source": [
        "새로운 함수를 정의할 때 def 말고 lambda를 이용할수도 있다."
      ]
    },
    {
      "cell_type": "code",
      "metadata": {
        "id": "wJK-tN7J-WBX",
        "colab_type": "code",
        "colab": {}
      },
      "source": [
        "f=lambda w:net.loss(x,t)\n",
        "dW=numerical_gradient(f,net.W)"
      ],
      "execution_count": 0,
      "outputs": []
    },
    {
      "cell_type": "markdown",
      "metadata": {
        "id": "TBYeJYSp-WBq",
        "colab_type": "text"
      },
      "source": [
        "# 4.5 학습 알고리즘 구현하기\n",
        "\n",
        "* 신경망 학습의 절차\n",
        "  1. 미니배치 : 훈련 데이터 중 일부를 무작위로 가져온다.\n",
        "  2. 기울기 산출 : 미니배치의 손실 함수 값을 줄이기 위해 각 가중치 매개변수의 기울기를 구한다.\n",
        "  3. 매개변수 갱신 : 가중치 매개변수를 기울기 방향으로 아주 조금 갱신한다.\n",
        "  4. 반복\n",
        "  \n",
        "* 확률적 경사 하강법(SGD) : 데이터를 미니배치로 선정하여 경사 하강법으로 매개변수를 갱신하는 방법\n",
        "\n",
        "## 4.5.1 2층 신경망 클래스 구현하기"
      ]
    },
    {
      "cell_type": "code",
      "metadata": {
        "id": "TpY0rYMY-WBt",
        "colab_type": "code",
        "colab": {}
      },
      "source": [
        "import sys, os\n",
        "sys.path.append(os.pardir)  \n",
        "from common.functions import * # * : function에 있는 모든 함수\n",
        "from common.gradient import numerical_gradient\n",
        "\n",
        "\n",
        "class TwoLayerNet:\n",
        "\n",
        "    def __init__(self, input_size, hidden_size, output_size, weight_init_std=0.01):\n",
        "        # 가중치 초기화\n",
        "        self.params = {}\n",
        "        self.params['W1'] = weight_init_std * np.random.randn(input_size, hidden_size)\n",
        "        self.params['b1'] = np.zeros(hidden_size)\n",
        "        self.params['W2'] = weight_init_std * np.random.randn(hidden_size, output_size)\n",
        "        self.params['b2'] = np.zeros(output_size)\n",
        "\n",
        "    def predict(self, x):\n",
        "        W1, W2 = self.params['W1'], self.params['W2']\n",
        "        b1, b2 = self.params['b1'], self.params['b2']\n",
        "    \n",
        "        a1 = np.dot(x, W1) + b1\n",
        "        z1 = sigmoid(a1)\n",
        "        a2 = np.dot(z1, W2) + b2\n",
        "        y = softmax(a2)\n",
        "        \n",
        "        return y\n",
        "        \n",
        "    # x : 입력 데이터, t : 정답 레이블\n",
        "    def loss(self, x, t):\n",
        "        y = self.predict(x)\n",
        "        \n",
        "        return cross_entropy_error(y, t)\n",
        "    \n",
        "    def accuracy(self, x, t):\n",
        "        y = self.predict(x)\n",
        "        y = np.argmax(y, axis=1)\n",
        "        t = np.argmax(t, axis=1)\n",
        "        \n",
        "        accuracy = np.sum(y == t) / float(x.shape[0])\n",
        "        return accuracy\n",
        "        \n",
        "    # x : 입력 데이터, t : 정답 레이블\n",
        "    def numerical_gradient(self, x, t):\n",
        "        loss_W = lambda W: self.loss(x, t)\n",
        "        \n",
        "        grads = {}\n",
        "        grads['W1'] = numerical_gradient(loss_W, self.params['W1'])\n",
        "        grads['b1'] = numerical_gradient(loss_W, self.params['b1'])\n",
        "        grads['W2'] = numerical_gradient(loss_W, self.params['W2'])\n",
        "        grads['b2'] = numerical_gradient(loss_W, self.params['b2'])\n",
        "        \n",
        "        return grads\n",
        "    "
      ],
      "execution_count": 0,
      "outputs": []
    },
    {
      "cell_type": "code",
      "metadata": {
        "id": "LGsheQ8z-WB0",
        "colab_type": "code",
        "colab": {},
        "outputId": "a2c260f6-c3d2-4c56-fb3b-1076d803eab6"
      },
      "source": [
        "net = TwoLayerNet(input_size=784, hidden_size=100, output_size=10)\n",
        "net.params['W1'].shape"
      ],
      "execution_count": 0,
      "outputs": [
        {
          "output_type": "execute_result",
          "data": {
            "text/plain": [
              "(784, 100)"
            ]
          },
          "metadata": {
            "tags": []
          },
          "execution_count": 3
        }
      ]
    },
    {
      "cell_type": "code",
      "metadata": {
        "id": "rpVn3jzD-WB7",
        "colab_type": "code",
        "colab": {},
        "outputId": "cee9eb71-b019-44ae-9043-bf0270b8e7be"
      },
      "source": [
        "net.params['b1'].shape"
      ],
      "execution_count": 0,
      "outputs": [
        {
          "output_type": "execute_result",
          "data": {
            "text/plain": [
              "(100,)"
            ]
          },
          "metadata": {
            "tags": []
          },
          "execution_count": 4
        }
      ]
    },
    {
      "cell_type": "code",
      "metadata": {
        "id": "st9QrBkt-WCD",
        "colab_type": "code",
        "colab": {},
        "outputId": "567f9cca-2c4e-4b01-8416-93fc189fbf8e"
      },
      "source": [
        "net.params['W2'].shape"
      ],
      "execution_count": 0,
      "outputs": [
        {
          "output_type": "execute_result",
          "data": {
            "text/plain": [
              "(100, 10)"
            ]
          },
          "metadata": {
            "tags": []
          },
          "execution_count": 5
        }
      ]
    },
    {
      "cell_type": "code",
      "metadata": {
        "id": "3fOQt8sW-WCM",
        "colab_type": "code",
        "colab": {},
        "outputId": "f64a0663-1452-41f9-bb3d-c0a980c911f4"
      },
      "source": [
        "net.params['b2'].shape"
      ],
      "execution_count": 0,
      "outputs": [
        {
          "output_type": "execute_result",
          "data": {
            "text/plain": [
              "(10,)"
            ]
          },
          "metadata": {
            "tags": []
          },
          "execution_count": 6
        }
      ]
    },
    {
      "cell_type": "code",
      "metadata": {
        "id": "p_zGz90x-WCT",
        "colab_type": "code",
        "colab": {}
      },
      "source": [
        "x=np.random.rand(100,784)\n",
        "y=net.predict(x)"
      ],
      "execution_count": 0,
      "outputs": []
    },
    {
      "cell_type": "code",
      "metadata": {
        "id": "xGKiDU4F-WCa",
        "colab_type": "code",
        "colab": {}
      },
      "source": [
        "x=np.random.rand(100,784)\n",
        "t=np.random.rand(100,10)\n",
        "\n",
        "grads = net.numerical_gradient(x,t)"
      ],
      "execution_count": 0,
      "outputs": []
    },
    {
      "cell_type": "code",
      "metadata": {
        "id": "FcbsATS6-WCg",
        "colab_type": "code",
        "colab": {},
        "outputId": "0af98fae-eb44-402d-88b9-83e887c292f0"
      },
      "source": [
        "grads['W1'].shape"
      ],
      "execution_count": 0,
      "outputs": [
        {
          "output_type": "execute_result",
          "data": {
            "text/plain": [
              "(784, 100)"
            ]
          },
          "metadata": {
            "tags": []
          },
          "execution_count": 9
        }
      ]
    },
    {
      "cell_type": "code",
      "metadata": {
        "id": "wELHE5bQ-WCw",
        "colab_type": "code",
        "colab": {},
        "outputId": "152d844a-c4bb-4487-cd48-2313dc7745f5"
      },
      "source": [
        "grads['b1'].shape"
      ],
      "execution_count": 0,
      "outputs": [
        {
          "output_type": "execute_result",
          "data": {
            "text/plain": [
              "(100,)"
            ]
          },
          "metadata": {
            "tags": []
          },
          "execution_count": 10
        }
      ]
    },
    {
      "cell_type": "code",
      "metadata": {
        "id": "Lb6vKENK-WC3",
        "colab_type": "code",
        "colab": {},
        "outputId": "3fb41a9f-f915-43f2-eea4-e6d90dc1822d"
      },
      "source": [
        "grads['W2'].shape"
      ],
      "execution_count": 0,
      "outputs": [
        {
          "output_type": "execute_result",
          "data": {
            "text/plain": [
              "(100, 10)"
            ]
          },
          "metadata": {
            "tags": []
          },
          "execution_count": 11
        }
      ]
    },
    {
      "cell_type": "code",
      "metadata": {
        "id": "S_hUFq_W-WC-",
        "colab_type": "code",
        "colab": {},
        "outputId": "157800d7-316c-4dd1-e036-4a22745c536d"
      },
      "source": [
        "grads['b2'].shape"
      ],
      "execution_count": 0,
      "outputs": [
        {
          "output_type": "execute_result",
          "data": {
            "text/plain": [
              "(10,)"
            ]
          },
          "metadata": {
            "tags": []
          },
          "execution_count": 12
        }
      ]
    },
    {
      "cell_type": "markdown",
      "metadata": {
        "id": "BWk7bm-B-WDJ",
        "colab_type": "text"
      },
      "source": [
        "## 4.5.2 미니배치 학습 구현하기"
      ]
    },
    {
      "cell_type": "code",
      "metadata": {
        "id": "SuWP9JZg-WDL",
        "colab_type": "code",
        "colab": {}
      },
      "source": [
        "import sys, os\n",
        "sys.path.append(os.pardir)  # 부모 디렉터리의 파일을 가져올 수 있도록 설정\n",
        "import numpy as np\n",
        "import matplotlib.pyplot as plt\n",
        "from dataset.mnist import load_mnist\n",
        "from two_layer_net import TwoLayerNet\n",
        "\n",
        "(x_train, t_train), (x_test, t_test) = \\\n",
        "    load_mnist(normalize=True, one_hot_label=True) #normlize : 0에서 1사이 오게 할려고 \n",
        "\n",
        "train_loss_list = []\n",
        "\n",
        "# 하이퍼파라미터\n",
        "iters_num = 10000  # 반복 횟수를 적절히 설정한다.\n",
        "train_size = x_train.shape[0]\n",
        "batch_size = 100   # 미니배치 크기\n",
        "learning_rate = 0.1\n",
        "\n",
        "network = TwoLayerNet(input_size=784, hidden_size=50, output_size=10)\n",
        "\n",
        "for i in range(iters_num):\n",
        "    # 미니배치 획득\n",
        "    batch_mask = np.random.choice(train_size, batch_size)\n",
        "    x_batch = x_train[batch_mask]\n",
        "    t_batch = t_train[batch_mask]\n",
        "    \n",
        "    # 기울기 계산\n",
        "    #grad = network.numerical_gradient(x_batch, t_batch)\n",
        "    grad = network.gradient(x_batch, t_batch)\n",
        "    \n",
        "    # 매개변수 갱신\n",
        "    for key in ('W1', 'b1', 'W2', 'b2'):\n",
        "        network.params[key] -= learning_rate * grad[key]\n",
        "        \n",
        "    # 학습 경과 기록\n",
        "    loss = network.loss(x_batch, t_batch)\n",
        "    train_loss_list.append(loss)"
      ],
      "execution_count": 0,
      "outputs": []
    },
    {
      "cell_type": "markdown",
      "metadata": {
        "id": "ENujHlu6-WDb",
        "colab_type": "text"
      },
      "source": [
        "## 4.5.3 시험 데이터로 평가하기\n",
        "\n"
      ]
    },
    {
      "cell_type": "code",
      "metadata": {
        "id": "O_vCM7KO-WDd",
        "colab_type": "code",
        "colab": {},
        "outputId": "2905de3b-3763-4071-99d9-b3ebfde75480"
      },
      "source": [
        "import sys, os\n",
        "sys.path.append(os.pardir)  # 부모 디렉터리의 파일을 가져올 수 있도록 설정\n",
        "import numpy as np\n",
        "import matplotlib.pyplot as plt\n",
        "from dataset.mnist import load_mnist\n",
        "from two_layer_net import TwoLayerNet\n",
        "\n",
        "# 데이터 읽기\n",
        "(x_train, t_train), (x_test, t_test) = load_mnist(normalize=True, one_hot_label=True)\n",
        "\n",
        "network = TwoLayerNet(input_size=784, hidden_size=50, output_size=10)\n",
        "\n",
        "# 하이퍼파라미터\n",
        "iters_num = 10000  # 반복 횟수를 적절히 설정한다.\n",
        "train_size = x_train.shape[0]\n",
        "batch_size = 100   # 미니배치 크기\n",
        "learning_rate = 0.1\n",
        "\n",
        "train_loss_list = []\n",
        "train_acc_list = []\n",
        "test_acc_list = []\n",
        "\n",
        "# 1에폭당 반복 수\n",
        "iter_per_epoch = max(train_size / batch_size, 1)\n",
        "\n",
        "for i in range(iters_num):\n",
        "    # 미니배치 획득\n",
        "    batch_mask = np.random.choice(train_size, batch_size)\n",
        "    x_batch = x_train[batch_mask]\n",
        "    t_batch = t_train[batch_mask]\n",
        "    \n",
        "    # 기울기 계산\n",
        "    #grad = network.numerical_gradient(x_batch, t_batch)\n",
        "    grad = network.gradient(x_batch, t_batch)\n",
        "    \n",
        "    # 매개변수 갱신\n",
        "    for key in ('W1', 'b1', 'W2', 'b2'):\n",
        "        network.params[key] -= learning_rate * grad[key]\n",
        "    \n",
        "    # 학습 경과 기록\n",
        "    loss = network.loss(x_batch, t_batch)\n",
        "    train_loss_list.append(loss)\n",
        "    \n",
        "    # 1에폭당 정확도 계산\n",
        "    if i % iter_per_epoch == 0:\n",
        "        train_acc = network.accuracy(x_train, t_train)\n",
        "        test_acc = network.accuracy(x_test, t_test)\n",
        "        train_acc_list.append(train_acc)\n",
        "        test_acc_list.append(test_acc)\n",
        "        print(\"train acc, test acc | \" + str(train_acc) + \", \" + str(test_acc)) #str : 숫자를 문자열로"
      ],
      "execution_count": 0,
      "outputs": [
        {
          "output_type": "stream",
          "text": [
            "train acc, test acc | 0.09736666666666667, 0.0982\n",
            "train acc, test acc | 0.7915, 0.7945\n",
            "train acc, test acc | 0.87705, 0.8814\n",
            "train acc, test acc | 0.8992333333333333, 0.9012\n",
            "train acc, test acc | 0.9090666666666667, 0.9086\n",
            "train acc, test acc | 0.9144166666666667, 0.9176\n",
            "train acc, test acc | 0.9194, 0.9221\n",
            "train acc, test acc | 0.92365, 0.925\n",
            "train acc, test acc | 0.92725, 0.9289\n",
            "train acc, test acc | 0.9297333333333333, 0.9296\n",
            "train acc, test acc | 0.9334666666666667, 0.9334\n",
            "train acc, test acc | 0.93655, 0.9362\n",
            "train acc, test acc | 0.93915, 0.9389\n",
            "train acc, test acc | 0.9412666666666667, 0.9406\n",
            "train acc, test acc | 0.9433, 0.9424\n",
            "train acc, test acc | 0.9454833333333333, 0.9438\n",
            "train acc, test acc | 0.94705, 0.9464\n"
          ],
          "name": "stdout"
        }
      ]
    },
    {
      "cell_type": "code",
      "metadata": {
        "id": "bpnva2rZ-WDk",
        "colab_type": "code",
        "colab": {},
        "outputId": "8607c361-cfdb-410d-bbd0-417e88d0037f"
      },
      "source": [
        "# 그래프 그리기\n",
        "markers = {'train': 'o', 'test': 's'}\n",
        "x = np.arange(len(train_acc_list))\n",
        "plt.plot(x, train_acc_list, label='train acc')\n",
        "plt.plot(x, test_acc_list, label='test acc', linestyle='--')\n",
        "plt.xlabel(\"epochs\")\n",
        "plt.ylabel(\"accuracy\")\n",
        "plt.ylim(0, 1.0)\n",
        "plt.legend(loc='lower right')\n",
        "plt.show()"
      ],
      "execution_count": 0,
      "outputs": [
        {
          "output_type": "display_data",
          "data": {
            "image/png": "[encoded data removed]",
            "text/plain": [
              "<Figure size 432x288 with 1 Axes>"
            ]
          },
          "metadata": {
            "tags": [],
            "needs_background": "light"
          }
        }
      ]
    },
    {
      "cell_type": "markdown",
      "metadata": {
        "id": "343wRsGf-WDr",
        "colab_type": "text"
      },
      "source": [
        "훈련 데이터에 대한 정확도를 실선으로, 시험 데이터에 대한 정확도를 점선으로 그렸다. 학습이 진행될수록 훈련 데이터와 시험데이터를 사용한 정확도가 모두 좋아지는 경향을 보이고, 두 선이 겹치는 모습을 보아 차이가 없음을 알 수 있다. 따라서 이 학습은 오버피팅이 일어나지 않았다."
      ]
    },
    {
      "cell_type": "code",
      "metadata": {
        "id": "d3T8NL6x-WDt",
        "colab_type": "code",
        "colab": {}
      },
      "source": [
        ""
      ],
      "execution_count": 0,
      "outputs": []
    }
  ]
}